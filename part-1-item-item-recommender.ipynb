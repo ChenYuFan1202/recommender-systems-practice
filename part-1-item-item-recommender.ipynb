{
 "cells": [
  {
   "cell_type": "markdown",
   "id": "c9852b8a",
   "metadata": {},
   "source": [
    "# Part 1: Building an Item-Item Recommender\n",
    "\n",
    "If you use Netflix, you will notice that there is a section titled \"Because you watched Movie X\", which provides recommendations for movies based on a recent movie that you've watched. This is a classic example of an item-item recommendation. \n",
    "\n",
    "In this tutorial, we will generate item-item recommendations using a technique called [collaborative filtering](https://en.wikipedia.org/wiki/Collaborative_filtering). Let's get started! "
   ]
  },
  {
   "cell_type": "markdown",
   "id": "15d953b9",
   "metadata": {},
   "source": [
    "## Step 1: Import the Dependencies\n",
    "\n",
    "We will be representing our data as a pandas [DataFrame](https://pandas.pydata.org/pandas-docs/stable/reference/api/pandas.DataFrame.html). \n",
    "\n",
    "**What is a DataFrame?**\n",
    "\n",
    "- a two-dimensional Pandas data structure\n",
    "- columns represent features, rows represent items\n",
    "- analogous to an Excel spreadsheet or SQL table\n",
    "- documentation can be found here\n",
    "\n",
    "We will also be using two plotting packages: [matplotlib](https://matplotlib.org/) and [seaborn](https://seaborn.pydata.org/) (which is a wrapper of matplotlib) to visualize our data."
   ]
  },
  {
   "cell_type": "code",
   "execution_count": 327,
   "id": "2267aa6b",
   "metadata": {},
   "outputs": [],
   "source": [
    "import numpy as np\n",
    "import pandas as pd\n",
    "import sklearn\n",
    "import matplotlib.pyplot as plt\n",
    "import seaborn as sns\n",
    "\n",
    "import warnings\n",
    "warnings.simplefilter(action = 'ignore', category = FutureWarning) # 在畫圖那邊的參數會有警告訊息"
   ]
  },
  {
   "cell_type": "markdown",
   "id": "e56d14ce",
   "metadata": {},
   "source": [
    "## Step 2: Load the Data\n",
    "\n",
    "Let's download a small version of the [MovieLens](https://www.wikiwand.com/en/MovieLens) dataset. You can access it via the zip file url [here](https://grouplens.org/datasets/movielens/), or directly download [here](http://files.grouplens.org/datasets/movielens/ml-latest-small.zip). We're working with data in `ml-latest-small.zip` and will need to add the following files to our local directory: \n",
    "- ratings.csv\n",
    "- movies.csv\n",
    "\n",
    "These are also located in the data folder inside this GitHub repository. \n",
    "\n",
    "\n",
    "Alternatively, you can access the data here (以下兩個連結已經無法使用，所以要先將檔案下載至本機後再讀取檔案。):  \n",
    "- https://s3-us-west-2.amazonaws.com/recommender-tutorial/movies.csv\n",
    "- https://s3-us-west-2.amazonaws.com/recommender-tutorial/ratings.csv\n",
    "\n",
    "Let's load in our data and take a peek at the structure."
   ]
  },
  {
   "cell_type": "code",
   "execution_count": 328,
   "id": "cad287eb",
   "metadata": {},
   "outputs": [
    {
     "data": {
      "text/html": [
       "<div>\n",
       "<style scoped>\n",
       "    .dataframe tbody tr th:only-of-type {\n",
       "        vertical-align: middle;\n",
       "    }\n",
       "\n",
       "    .dataframe tbody tr th {\n",
       "        vertical-align: top;\n",
       "    }\n",
       "\n",
       "    .dataframe thead th {\n",
       "        text-align: right;\n",
       "    }\n",
       "</style>\n",
       "<table border=\"1\" class=\"dataframe\">\n",
       "  <thead>\n",
       "    <tr style=\"text-align: right;\">\n",
       "      <th></th>\n",
       "      <th>userId</th>\n",
       "      <th>movieId</th>\n",
       "      <th>rating</th>\n",
       "      <th>timestamp</th>\n",
       "    </tr>\n",
       "  </thead>\n",
       "  <tbody>\n",
       "    <tr>\n",
       "      <th>0</th>\n",
       "      <td>1</td>\n",
       "      <td>1</td>\n",
       "      <td>4.0</td>\n",
       "      <td>964982703</td>\n",
       "    </tr>\n",
       "    <tr>\n",
       "      <th>1</th>\n",
       "      <td>1</td>\n",
       "      <td>3</td>\n",
       "      <td>4.0</td>\n",
       "      <td>964981247</td>\n",
       "    </tr>\n",
       "    <tr>\n",
       "      <th>2</th>\n",
       "      <td>1</td>\n",
       "      <td>6</td>\n",
       "      <td>4.0</td>\n",
       "      <td>964982224</td>\n",
       "    </tr>\n",
       "    <tr>\n",
       "      <th>3</th>\n",
       "      <td>1</td>\n",
       "      <td>47</td>\n",
       "      <td>5.0</td>\n",
       "      <td>964983815</td>\n",
       "    </tr>\n",
       "    <tr>\n",
       "      <th>4</th>\n",
       "      <td>1</td>\n",
       "      <td>50</td>\n",
       "      <td>5.0</td>\n",
       "      <td>964982931</td>\n",
       "    </tr>\n",
       "  </tbody>\n",
       "</table>\n",
       "</div>"
      ],
      "text/plain": [
       "   userId  movieId  rating  timestamp\n",
       "0       1        1     4.0  964982703\n",
       "1       1        3     4.0  964981247\n",
       "2       1        6     4.0  964982224\n",
       "3       1       47     5.0  964983815\n",
       "4       1       50     5.0  964982931"
      ]
     },
     "execution_count": 328,
     "metadata": {},
     "output_type": "execute_result"
    }
   ],
   "source": [
    "ratings = pd.read_csv(\"./data/ratings.csv\")\n",
    "ratings.head()"
   ]
  },
  {
   "cell_type": "code",
   "execution_count": 329,
   "id": "d235bf1b",
   "metadata": {},
   "outputs": [
    {
     "data": {
      "text/html": [
       "<div>\n",
       "<style scoped>\n",
       "    .dataframe tbody tr th:only-of-type {\n",
       "        vertical-align: middle;\n",
       "    }\n",
       "\n",
       "    .dataframe tbody tr th {\n",
       "        vertical-align: top;\n",
       "    }\n",
       "\n",
       "    .dataframe thead th {\n",
       "        text-align: right;\n",
       "    }\n",
       "</style>\n",
       "<table border=\"1\" class=\"dataframe\">\n",
       "  <thead>\n",
       "    <tr style=\"text-align: right;\">\n",
       "      <th></th>\n",
       "      <th>movieId</th>\n",
       "      <th>title</th>\n",
       "      <th>genres</th>\n",
       "    </tr>\n",
       "  </thead>\n",
       "  <tbody>\n",
       "    <tr>\n",
       "      <th>0</th>\n",
       "      <td>1</td>\n",
       "      <td>Toy Story (1995)</td>\n",
       "      <td>Adventure|Animation|Children|Comedy|Fantasy</td>\n",
       "    </tr>\n",
       "    <tr>\n",
       "      <th>1</th>\n",
       "      <td>2</td>\n",
       "      <td>Jumanji (1995)</td>\n",
       "      <td>Adventure|Children|Fantasy</td>\n",
       "    </tr>\n",
       "    <tr>\n",
       "      <th>2</th>\n",
       "      <td>3</td>\n",
       "      <td>Grumpier Old Men (1995)</td>\n",
       "      <td>Comedy|Romance</td>\n",
       "    </tr>\n",
       "    <tr>\n",
       "      <th>3</th>\n",
       "      <td>4</td>\n",
       "      <td>Waiting to Exhale (1995)</td>\n",
       "      <td>Comedy|Drama|Romance</td>\n",
       "    </tr>\n",
       "    <tr>\n",
       "      <th>4</th>\n",
       "      <td>5</td>\n",
       "      <td>Father of the Bride Part II (1995)</td>\n",
       "      <td>Comedy</td>\n",
       "    </tr>\n",
       "  </tbody>\n",
       "</table>\n",
       "</div>"
      ],
      "text/plain": [
       "   movieId                               title  \\\n",
       "0        1                    Toy Story (1995)   \n",
       "1        2                      Jumanji (1995)   \n",
       "2        3             Grumpier Old Men (1995)   \n",
       "3        4            Waiting to Exhale (1995)   \n",
       "4        5  Father of the Bride Part II (1995)   \n",
       "\n",
       "                                        genres  \n",
       "0  Adventure|Animation|Children|Comedy|Fantasy  \n",
       "1                   Adventure|Children|Fantasy  \n",
       "2                               Comedy|Romance  \n",
       "3                         Comedy|Drama|Romance  \n",
       "4                                       Comedy  "
      ]
     },
     "execution_count": 329,
     "metadata": {},
     "output_type": "execute_result"
    }
   ],
   "source": [
    "movies = pd.read_csv(\"./data/movies.csv\")\n",
    "movies.head()"
   ]
  },
  {
   "cell_type": "markdown",
   "id": "42a03983",
   "metadata": {},
   "source": [
    "## Step 3: Exploratory Data Analysis\n",
    "\n",
    "In Part 1 of this tutorial series, we will focus on the `ratings` dataset. We'll need `movies` for subsequent sections. `Ratings` contains users' ratings for a given movie. Let's see how many ratings, unique movies, and unique users are in our dataset. "
   ]
  },
  {
   "cell_type": "code",
   "execution_count": 330,
   "id": "38601009",
   "metadata": {},
   "outputs": [
    {
     "name": "stdout",
     "output_type": "stream",
     "text": [
      "Number of ratings: 100836\n",
      "Numer of unique movieId's: 9724\n",
      "Number of unique users: 610\n",
      "Average number of ratings per users: 165.3\n",
      "Average number of ratings per movie: 10.37\n"
     ]
    }
   ],
   "source": [
    "n_ratings = len(ratings)\n",
    "n_movies = ratings[\"movieId\"].nunique()\n",
    "n_users = ratings[\"userId\"].nunique()\n",
    "\n",
    "print(f\"Number of ratings: {n_ratings}\")\n",
    "print(f\"Numer of unique movieId's: {n_movies}\")\n",
    "print(f\"Number of unique users: {n_users}\")\n",
    "print(f\"Average number of ratings per users: {round(n_ratings / n_users, 2)}\")\n",
    "print(f\"Average number of ratings per movie: {round(n_ratings / n_movies, 2)}\")"
   ]
  },
  {
   "cell_type": "code",
   "execution_count": 331,
   "id": "dee61427",
   "metadata": {},
   "outputs": [
    {
     "name": "stdout",
     "output_type": "stream",
     "text": [
      "電影總數是: 9742\n",
      "[ 1  2  3  4  5  6  7  8  9 10 11 12 13 14 15 16 17 18 19 20 21 22 23 24\n",
      " 25 26 27 28 29 30 31 32 34 36 38 39 40 41 42 43 44 45 46 47 48 49 50 52\n",
      " 53 54]\n",
      "使用者總數是: 610\n",
      "[ 1  2  3  4  5  6  7  8  9 10 11 12 13 14 15 16 17 18 19 20 21 22 23 24\n",
      " 25 26 27 28 29 30 31 32 33 34 35 36 37 38 39 40 41 42 43 44 45 46 47 48\n",
      " 49 50]\n"
     ]
    }
   ],
   "source": [
    "print(\"電影總數是:\", movies[\"movieId\"].nunique())\n",
    "print(movies[\"movieId\"].unique()[:50]) # 可以看得出來電影的 ID 不是連續的\n",
    "print(\"使用者總數是:\", ratings[\"userId\"].nunique())\n",
    "print(ratings[\"userId\"].unique()[:50]) # 使用者 ID 是連續的"
   ]
  },
  {
   "cell_type": "markdown",
   "id": "d029eecb",
   "metadata": {},
   "source": [
    "Now, let's take a look at users' rating counts. We can do this using pandas' `groupby()` and `count()` which groups the data by `userId`'s and counts the number of ratings for each userId. "
   ]
  },
  {
   "cell_type": "code",
   "execution_count": 332,
   "id": "9bfb8c70",
   "metadata": {},
   "outputs": [
    {
     "data": {
      "text/html": [
       "<div>\n",
       "<style scoped>\n",
       "    .dataframe tbody tr th:only-of-type {\n",
       "        vertical-align: middle;\n",
       "    }\n",
       "\n",
       "    .dataframe tbody tr th {\n",
       "        vertical-align: top;\n",
       "    }\n",
       "\n",
       "    .dataframe thead th {\n",
       "        text-align: right;\n",
       "    }\n",
       "</style>\n",
       "<table border=\"1\" class=\"dataframe\">\n",
       "  <thead>\n",
       "    <tr style=\"text-align: right;\">\n",
       "      <th></th>\n",
       "      <th>userId</th>\n",
       "      <th>n_ratings</th>\n",
       "    </tr>\n",
       "  </thead>\n",
       "  <tbody>\n",
       "    <tr>\n",
       "      <th>0</th>\n",
       "      <td>1</td>\n",
       "      <td>232</td>\n",
       "    </tr>\n",
       "    <tr>\n",
       "      <th>1</th>\n",
       "      <td>2</td>\n",
       "      <td>29</td>\n",
       "    </tr>\n",
       "    <tr>\n",
       "      <th>2</th>\n",
       "      <td>3</td>\n",
       "      <td>39</td>\n",
       "    </tr>\n",
       "    <tr>\n",
       "      <th>3</th>\n",
       "      <td>4</td>\n",
       "      <td>216</td>\n",
       "    </tr>\n",
       "    <tr>\n",
       "      <th>4</th>\n",
       "      <td>5</td>\n",
       "      <td>44</td>\n",
       "    </tr>\n",
       "  </tbody>\n",
       "</table>\n",
       "</div>"
      ],
      "text/plain": [
       "   userId  n_ratings\n",
       "0       1        232\n",
       "1       2         29\n",
       "2       3         39\n",
       "3       4        216\n",
       "4       5         44"
      ]
     },
     "execution_count": 332,
     "metadata": {},
     "output_type": "execute_result"
    }
   ],
   "source": [
    "user_freq = ratings[[\"userId\", \"movieId\"]].groupby(\"userId\").count().reset_index()\n",
    "user_freq.columns = [\"userId\", \"n_ratings\"]\n",
    "user_freq.head()"
   ]
  },
  {
   "cell_type": "code",
   "execution_count": 333,
   "id": "db780c82",
   "metadata": {},
   "outputs": [
    {
     "name": "stdout",
     "output_type": "stream",
     "text": [
      "Mean number of ratings for a given user: 165.30.\n"
     ]
    }
   ],
   "source": [
    "print(f\"Mean number of ratings for a given user: {user_freq[\"n_ratings\"].mean():.2f}.\")"
   ]
  },
  {
   "cell_type": "markdown",
   "id": "02eb4e95",
   "metadata": {},
   "source": [
    "On average, a user will have rated ~165 movies. Looks like we have some avid movie watchers in our dataset."
   ]
  },
  {
   "cell_type": "code",
   "execution_count": 334,
   "id": "fb59a6dd",
   "metadata": {},
   "outputs": [
    {
     "data": {
      "image/png": "[encoded data removed]",
      "text/plain": [
       "<Figure size 1400x500 with 2 Axes>"
      ]
     },
     "metadata": {},
     "output_type": "display_data"
    }
   ],
   "source": [
    "sns.set_style(\"whitegrid\")\n",
    "plt.figure(figsize = (14, 5))\n",
    "plt.subplot(1, 2, 1)\n",
    "ax = sns.countplot(data = ratings, x = \"rating\", palette = \"viridis\") # countplot：是一種 bar chart，統計某欄位的每個類別數量\n",
    "plt.title(\"Distribution of movie ratings\")\n",
    "\n",
    "plt.subplot(1, 2, 2)\n",
    "# 畫出 KDE (Kernel Density Estimation)（核密度估計）圖，表示「使用者平均評分幾部電影」的分布情形\n",
    "# 也可以 sns.kdeplot(user_freq[\"n_ratings\"], shade = True, legend = False)\n",
    "ax = sns.kdeplot(user_freq, x = \"n_ratings\", shade = True, legend = False) # shade = True：圖形會填色\n",
    "plt.axvline(user_freq[\"n_ratings\"].mean(), color = \"k\", linestyle = \"--\")\n",
    "plt.xlabel(\"# ratings per user\")\n",
    "plt.ylabel(\"density\")\n",
    "plt.title(\"Number of movies rated per user\")\n",
    "\n",
    "plt.show()"
   ]
  },
  {
   "cell_type": "markdown",
   "id": "95d0ce03",
   "metadata": {},
   "source": [
    "The most common rating is 4.0, while lower ratings such as 0.5 or 1.0 are much more rare. "
   ]
  },
  {
   "cell_type": "code",
   "execution_count": 335,
   "id": "d7623ea9",
   "metadata": {},
   "outputs": [
    {
     "data": {
      "text/html": [
       "<div>\n",
       "<style scoped>\n",
       "    .dataframe tbody tr th:only-of-type {\n",
       "        vertical-align: middle;\n",
       "    }\n",
       "\n",
       "    .dataframe tbody tr th {\n",
       "        vertical-align: top;\n",
       "    }\n",
       "\n",
       "    .dataframe thead th {\n",
       "        text-align: right;\n",
       "    }\n",
       "</style>\n",
       "<table border=\"1\" class=\"dataframe\">\n",
       "  <thead>\n",
       "    <tr style=\"text-align: right;\">\n",
       "      <th></th>\n",
       "      <th>n_ratings</th>\n",
       "      <th>count</th>\n",
       "    </tr>\n",
       "  </thead>\n",
       "  <tbody>\n",
       "    <tr>\n",
       "      <th>0</th>\n",
       "      <td>21</td>\n",
       "      <td>15</td>\n",
       "    </tr>\n",
       "    <tr>\n",
       "      <th>1</th>\n",
       "      <td>22</td>\n",
       "      <td>14</td>\n",
       "    </tr>\n",
       "    <tr>\n",
       "      <th>2</th>\n",
       "      <td>20</td>\n",
       "      <td>14</td>\n",
       "    </tr>\n",
       "    <tr>\n",
       "      <th>3</th>\n",
       "      <td>56</td>\n",
       "      <td>14</td>\n",
       "    </tr>\n",
       "    <tr>\n",
       "      <th>4</th>\n",
       "      <td>26</td>\n",
       "      <td>13</td>\n",
       "    </tr>\n",
       "    <tr>\n",
       "      <th>...</th>\n",
       "      <td>...</td>\n",
       "      <td>...</td>\n",
       "    </tr>\n",
       "    <tr>\n",
       "      <th>256</th>\n",
       "      <td>943</td>\n",
       "      <td>1</td>\n",
       "    </tr>\n",
       "    <tr>\n",
       "      <th>257</th>\n",
       "      <td>221</td>\n",
       "      <td>1</td>\n",
       "    </tr>\n",
       "    <tr>\n",
       "      <th>258</th>\n",
       "      <td>1115</td>\n",
       "      <td>1</td>\n",
       "    </tr>\n",
       "    <tr>\n",
       "      <th>259</th>\n",
       "      <td>831</td>\n",
       "      <td>1</td>\n",
       "    </tr>\n",
       "    <tr>\n",
       "      <th>260</th>\n",
       "      <td>1302</td>\n",
       "      <td>1</td>\n",
       "    </tr>\n",
       "  </tbody>\n",
       "</table>\n",
       "<p>261 rows × 2 columns</p>\n",
       "</div>"
      ],
      "text/plain": [
       "     n_ratings  count\n",
       "0           21     15\n",
       "1           22     14\n",
       "2           20     14\n",
       "3           56     14\n",
       "4           26     13\n",
       "..         ...    ...\n",
       "256        943      1\n",
       "257        221      1\n",
       "258       1115      1\n",
       "259        831      1\n",
       "260       1302      1\n",
       "\n",
       "[261 rows x 2 columns]"
      ]
     },
     "execution_count": 335,
     "metadata": {},
     "output_type": "execute_result"
    }
   ],
   "source": [
    "user_freq[\"n_ratings\"].value_counts().reset_index()"
   ]
  },
  {
   "cell_type": "markdown",
   "id": "3b0ae8a7",
   "metadata": {},
   "source": [
    "可以看得出來，評分 20 多部電影的人居多"
   ]
  },
  {
   "cell_type": "markdown",
   "id": "f525b58e",
   "metadata": {},
   "source": [
    "### Which movie has the lowest and highest average rating?"
   ]
  },
  {
   "cell_type": "code",
   "execution_count": 336,
   "id": "d4f4c4b7",
   "metadata": {},
   "outputs": [
    {
     "data": {
      "text/html": [
       "<div>\n",
       "<style scoped>\n",
       "    .dataframe tbody tr th:only-of-type {\n",
       "        vertical-align: middle;\n",
       "    }\n",
       "\n",
       "    .dataframe tbody tr th {\n",
       "        vertical-align: top;\n",
       "    }\n",
       "\n",
       "    .dataframe thead th {\n",
       "        text-align: right;\n",
       "    }\n",
       "</style>\n",
       "<table border=\"1\" class=\"dataframe\">\n",
       "  <thead>\n",
       "    <tr style=\"text-align: right;\">\n",
       "      <th></th>\n",
       "      <th>movieId</th>\n",
       "      <th>title</th>\n",
       "      <th>genres</th>\n",
       "    </tr>\n",
       "  </thead>\n",
       "  <tbody>\n",
       "    <tr>\n",
       "      <th>2689</th>\n",
       "      <td>3604</td>\n",
       "      <td>Gypsy (1962)</td>\n",
       "      <td>Musical</td>\n",
       "    </tr>\n",
       "  </tbody>\n",
       "</table>\n",
       "</div>"
      ],
      "text/plain": [
       "      movieId         title   genres\n",
       "2689     3604  Gypsy (1962)  Musical"
      ]
     },
     "metadata": {},
     "output_type": "display_data"
    },
    {
     "data": {
      "text/html": [
       "<div>\n",
       "<style scoped>\n",
       "    .dataframe tbody tr th:only-of-type {\n",
       "        vertical-align: middle;\n",
       "    }\n",
       "\n",
       "    .dataframe tbody tr th {\n",
       "        vertical-align: top;\n",
       "    }\n",
       "\n",
       "    .dataframe thead th {\n",
       "        text-align: right;\n",
       "    }\n",
       "</style>\n",
       "<table border=\"1\" class=\"dataframe\">\n",
       "  <thead>\n",
       "    <tr style=\"text-align: right;\">\n",
       "      <th></th>\n",
       "      <th>movieId</th>\n",
       "      <th>rating</th>\n",
       "    </tr>\n",
       "  </thead>\n",
       "  <tbody>\n",
       "    <tr>\n",
       "      <th>0</th>\n",
       "      <td>3604</td>\n",
       "      <td>0.5</td>\n",
       "    </tr>\n",
       "    <tr>\n",
       "      <th>1</th>\n",
       "      <td>3933</td>\n",
       "      <td>0.5</td>\n",
       "    </tr>\n",
       "    <tr>\n",
       "      <th>2</th>\n",
       "      <td>4051</td>\n",
       "      <td>0.5</td>\n",
       "    </tr>\n",
       "    <tr>\n",
       "      <th>3</th>\n",
       "      <td>4371</td>\n",
       "      <td>0.5</td>\n",
       "    </tr>\n",
       "    <tr>\n",
       "      <th>4</th>\n",
       "      <td>4580</td>\n",
       "      <td>0.5</td>\n",
       "    </tr>\n",
       "    <tr>\n",
       "      <th>...</th>\n",
       "      <td>...</td>\n",
       "      <td>...</td>\n",
       "    </tr>\n",
       "    <tr>\n",
       "      <th>9719</th>\n",
       "      <td>176601</td>\n",
       "      <td>5.0</td>\n",
       "    </tr>\n",
       "    <tr>\n",
       "      <th>9720</th>\n",
       "      <td>179133</td>\n",
       "      <td>5.0</td>\n",
       "    </tr>\n",
       "    <tr>\n",
       "      <th>9721</th>\n",
       "      <td>179135</td>\n",
       "      <td>5.0</td>\n",
       "    </tr>\n",
       "    <tr>\n",
       "      <th>9722</th>\n",
       "      <td>184245</td>\n",
       "      <td>5.0</td>\n",
       "    </tr>\n",
       "    <tr>\n",
       "      <th>9723</th>\n",
       "      <td>187717</td>\n",
       "      <td>5.0</td>\n",
       "    </tr>\n",
       "  </tbody>\n",
       "</table>\n",
       "<p>9724 rows × 2 columns</p>\n",
       "</div>"
      ],
      "text/plain": [
       "      movieId  rating\n",
       "0        3604     0.5\n",
       "1        3933     0.5\n",
       "2        4051     0.5\n",
       "3        4371     0.5\n",
       "4        4580     0.5\n",
       "...       ...     ...\n",
       "9719   176601     5.0\n",
       "9720   179133     5.0\n",
       "9721   179135     5.0\n",
       "9722   184245     5.0\n",
       "9723   187717     5.0\n",
       "\n",
       "[9724 rows x 2 columns]"
      ]
     },
     "execution_count": 336,
     "metadata": {},
     "output_type": "execute_result"
    }
   ],
   "source": [
    "mean_rating = ratings.groupby(\"movieId\")[[\"rating\"]].mean()\n",
    "lowest_rated = mean_rating[\"rating\"].idxmin()\n",
    "# lowest_rated # np.int64(3604)\n",
    "\n",
    "display(movies[movies[\"movieId\"] == lowest_rated])\n",
    "# 其實評分為0.5的有很多部\n",
    "mean_rating.sort_values(by = [\"rating\", \"movieId\"], ascending = [True, True])\\\n",
    "    .reset_index()"
   ]
  },
  {
   "cell_type": "code",
   "execution_count": 337,
   "id": "8df34b11",
   "metadata": {},
   "outputs": [
    {
     "data": {
      "text/html": [
       "<div>\n",
       "<style scoped>\n",
       "    .dataframe tbody tr th:only-of-type {\n",
       "        vertical-align: middle;\n",
       "    }\n",
       "\n",
       "    .dataframe tbody tr th {\n",
       "        vertical-align: top;\n",
       "    }\n",
       "\n",
       "    .dataframe thead th {\n",
       "        text-align: right;\n",
       "    }\n",
       "</style>\n",
       "<table border=\"1\" class=\"dataframe\">\n",
       "  <thead>\n",
       "    <tr style=\"text-align: right;\">\n",
       "      <th></th>\n",
       "      <th>movieId</th>\n",
       "      <th>title</th>\n",
       "      <th>genres</th>\n",
       "    </tr>\n",
       "  </thead>\n",
       "  <tbody>\n",
       "    <tr>\n",
       "      <th>276</th>\n",
       "      <td>317</td>\n",
       "      <td>Santa Clause, The (1994)</td>\n",
       "      <td>Comedy|Drama|Fantasy</td>\n",
       "    </tr>\n",
       "    <tr>\n",
       "      <th>1799</th>\n",
       "      <td>2399</td>\n",
       "      <td>Santa Claus: The Movie (1985)</td>\n",
       "      <td>Adventure|Children|Fantasy</td>\n",
       "    </tr>\n",
       "    <tr>\n",
       "      <th>3421</th>\n",
       "      <td>4658</td>\n",
       "      <td>Santa Sangre (1989)</td>\n",
       "      <td>Drama|Horror|Mystery|Thriller</td>\n",
       "    </tr>\n",
       "    <tr>\n",
       "      <th>4072</th>\n",
       "      <td>5804</td>\n",
       "      <td>Santa Clause 2, The (2002)</td>\n",
       "      <td>Children|Comedy|Fantasy|Romance</td>\n",
       "    </tr>\n",
       "    <tr>\n",
       "      <th>4216</th>\n",
       "      <td>6119</td>\n",
       "      <td>Santa Claus Is a Stinker (Le Père Noël est une...</td>\n",
       "      <td>Comedy</td>\n",
       "    </tr>\n",
       "    <tr>\n",
       "      <th>4656</th>\n",
       "      <td>6957</td>\n",
       "      <td>Bad Santa (2003)</td>\n",
       "      <td>Comedy|Crime</td>\n",
       "    </tr>\n",
       "    <tr>\n",
       "      <th>6339</th>\n",
       "      <td>49013</td>\n",
       "      <td>Santa Clause 3: The Escape Clause, The (2006)</td>\n",
       "      <td>Comedy|Fantasy</td>\n",
       "    </tr>\n",
       "    <tr>\n",
       "      <th>8328</th>\n",
       "      <td>107449</td>\n",
       "      <td>Muppet Christmas: Letters to Santa, A (2008)</td>\n",
       "      <td>Children|Comedy</td>\n",
       "    </tr>\n",
       "    <tr>\n",
       "      <th>8818</th>\n",
       "      <td>131098</td>\n",
       "      <td>Saving Santa (2013)</td>\n",
       "      <td>Animation|Children|Comedy</td>\n",
       "    </tr>\n",
       "    <tr>\n",
       "      <th>9233</th>\n",
       "      <td>152658</td>\n",
       "      <td>Santa's Little Helper (2015)</td>\n",
       "      <td>Children</td>\n",
       "    </tr>\n",
       "    <tr>\n",
       "      <th>9419</th>\n",
       "      <td>165645</td>\n",
       "      <td>Bad Santa 2 (2016)</td>\n",
       "      <td>Comedy</td>\n",
       "    </tr>\n",
       "  </tbody>\n",
       "</table>\n",
       "</div>"
      ],
      "text/plain": [
       "      movieId                                              title  \\\n",
       "276       317                           Santa Clause, The (1994)   \n",
       "1799     2399                      Santa Claus: The Movie (1985)   \n",
       "3421     4658                                Santa Sangre (1989)   \n",
       "4072     5804                         Santa Clause 2, The (2002)   \n",
       "4216     6119  Santa Claus Is a Stinker (Le Père Noël est une...   \n",
       "4656     6957                                   Bad Santa (2003)   \n",
       "6339    49013      Santa Clause 3: The Escape Clause, The (2006)   \n",
       "8328   107449       Muppet Christmas: Letters to Santa, A (2008)   \n",
       "8818   131098                                Saving Santa (2013)   \n",
       "9233   152658                       Santa's Little Helper (2015)   \n",
       "9419   165645                                 Bad Santa 2 (2016)   \n",
       "\n",
       "                               genres  \n",
       "276              Comedy|Drama|Fantasy  \n",
       "1799       Adventure|Children|Fantasy  \n",
       "3421    Drama|Horror|Mystery|Thriller  \n",
       "4072  Children|Comedy|Fantasy|Romance  \n",
       "4216                           Comedy  \n",
       "4656                     Comedy|Crime  \n",
       "6339                   Comedy|Fantasy  \n",
       "8328                  Children|Comedy  \n",
       "8818        Animation|Children|Comedy  \n",
       "9233                         Children  \n",
       "9419                           Comedy  "
      ]
     },
     "execution_count": 337,
     "metadata": {},
     "output_type": "execute_result"
    }
   ],
   "source": [
    "movies[movies[\"title\"].str.contains(\"Santa\")] # 這裡其實也只是好奇作者在講什麼 XD"
   ]
  },
  {
   "cell_type": "markdown",
   "id": "bf3a8583",
   "metadata": {},
   "source": [
    "Santa with Muscles is the worst rated movie!"
   ]
  },
  {
   "cell_type": "code",
   "execution_count": 338,
   "id": "dbc2ad6d",
   "metadata": {},
   "outputs": [
    {
     "data": {
      "text/html": [
       "<div>\n",
       "<style scoped>\n",
       "    .dataframe tbody tr th:only-of-type {\n",
       "        vertical-align: middle;\n",
       "    }\n",
       "\n",
       "    .dataframe tbody tr th {\n",
       "        vertical-align: top;\n",
       "    }\n",
       "\n",
       "    .dataframe thead th {\n",
       "        text-align: right;\n",
       "    }\n",
       "</style>\n",
       "<table border=\"1\" class=\"dataframe\">\n",
       "  <thead>\n",
       "    <tr style=\"text-align: right;\">\n",
       "      <th></th>\n",
       "      <th>movieId</th>\n",
       "      <th>title</th>\n",
       "      <th>genres</th>\n",
       "    </tr>\n",
       "  </thead>\n",
       "  <tbody>\n",
       "    <tr>\n",
       "      <th>48</th>\n",
       "      <td>53</td>\n",
       "      <td>Lamerica (1994)</td>\n",
       "      <td>Adventure|Drama</td>\n",
       "    </tr>\n",
       "  </tbody>\n",
       "</table>\n",
       "</div>"
      ],
      "text/plain": [
       "    movieId            title           genres\n",
       "48       53  Lamerica (1994)  Adventure|Drama"
      ]
     },
     "execution_count": 338,
     "metadata": {},
     "output_type": "execute_result"
    }
   ],
   "source": [
    "highest_rated = mean_rating[\"rating\"].idxmax()\n",
    "movies[movies[\"movieId\"] == highest_rated]"
   ]
  },
  {
   "cell_type": "code",
   "execution_count": 339,
   "id": "7006dc53",
   "metadata": {},
   "outputs": [
    {
     "data": {
      "text/html": [
       "<div>\n",
       "<style scoped>\n",
       "    .dataframe tbody tr th:only-of-type {\n",
       "        vertical-align: middle;\n",
       "    }\n",
       "\n",
       "    .dataframe tbody tr th {\n",
       "        vertical-align: top;\n",
       "    }\n",
       "\n",
       "    .dataframe thead th {\n",
       "        text-align: right;\n",
       "    }\n",
       "</style>\n",
       "<table border=\"1\" class=\"dataframe\">\n",
       "  <thead>\n",
       "    <tr style=\"text-align: right;\">\n",
       "      <th></th>\n",
       "      <th>movieId</th>\n",
       "      <th>rating</th>\n",
       "    </tr>\n",
       "  </thead>\n",
       "  <tbody>\n",
       "    <tr>\n",
       "      <th>0</th>\n",
       "      <td>53</td>\n",
       "      <td>5.0</td>\n",
       "    </tr>\n",
       "    <tr>\n",
       "      <th>1</th>\n",
       "      <td>99</td>\n",
       "      <td>5.0</td>\n",
       "    </tr>\n",
       "    <tr>\n",
       "      <th>2</th>\n",
       "      <td>148</td>\n",
       "      <td>5.0</td>\n",
       "    </tr>\n",
       "    <tr>\n",
       "      <th>3</th>\n",
       "      <td>467</td>\n",
       "      <td>5.0</td>\n",
       "    </tr>\n",
       "    <tr>\n",
       "      <th>4</th>\n",
       "      <td>495</td>\n",
       "      <td>5.0</td>\n",
       "    </tr>\n",
       "  </tbody>\n",
       "</table>\n",
       "</div>"
      ],
      "text/plain": [
       "   movieId  rating\n",
       "0       53     5.0\n",
       "1       99     5.0\n",
       "2      148     5.0\n",
       "3      467     5.0\n",
       "4      495     5.0"
      ]
     },
     "execution_count": 339,
     "metadata": {},
     "output_type": "execute_result"
    }
   ],
   "source": [
    "# 5.0 的一樣很多部\n",
    "mean_rating.sort_values(by = [\"rating\", \"movieId\"], ascending = [False, True])\\\n",
    "    .reset_index()\\\n",
    "    .head()"
   ]
  },
  {
   "cell_type": "markdown",
   "id": "88dc936c",
   "metadata": {},
   "source": [
    "Lamerica may be the \"highest\" rated movie, but how many ratings does it have?"
   ]
  },
  {
   "cell_type": "code",
   "execution_count": 340,
   "id": "b57d92b7",
   "metadata": {},
   "outputs": [
    {
     "data": {
      "text/html": [
       "<div>\n",
       "<style scoped>\n",
       "    .dataframe tbody tr th:only-of-type {\n",
       "        vertical-align: middle;\n",
       "    }\n",
       "\n",
       "    .dataframe tbody tr th {\n",
       "        vertical-align: top;\n",
       "    }\n",
       "\n",
       "    .dataframe thead th {\n",
       "        text-align: right;\n",
       "    }\n",
       "</style>\n",
       "<table border=\"1\" class=\"dataframe\">\n",
       "  <thead>\n",
       "    <tr style=\"text-align: right;\">\n",
       "      <th></th>\n",
       "      <th>userId</th>\n",
       "      <th>movieId</th>\n",
       "      <th>rating</th>\n",
       "      <th>timestamp</th>\n",
       "    </tr>\n",
       "  </thead>\n",
       "  <tbody>\n",
       "    <tr>\n",
       "      <th>13368</th>\n",
       "      <td>85</td>\n",
       "      <td>53</td>\n",
       "      <td>5.0</td>\n",
       "      <td>889468268</td>\n",
       "    </tr>\n",
       "    <tr>\n",
       "      <th>96115</th>\n",
       "      <td>603</td>\n",
       "      <td>53</td>\n",
       "      <td>5.0</td>\n",
       "      <td>963180003</td>\n",
       "    </tr>\n",
       "  </tbody>\n",
       "</table>\n",
       "</div>"
      ],
      "text/plain": [
       "       userId  movieId  rating  timestamp\n",
       "13368      85       53     5.0  889468268\n",
       "96115     603       53     5.0  963180003"
      ]
     },
     "execution_count": 340,
     "metadata": {},
     "output_type": "execute_result"
    }
   ],
   "source": [
    "ratings[ratings[\"movieId\"] == highest_rated]"
   ]
  },
  {
   "cell_type": "markdown",
   "id": "0804c882",
   "metadata": {},
   "source": [
    "Lamerica has only 2 ratings. A better approach for evaluating movie popularity is to look at the [Bayesian average](https://en.wikipedia.org/wiki/Bayesian_average)."
   ]
  },
  {
   "cell_type": "markdown",
   "id": "08b8f378",
   "metadata": {},
   "source": [
    "#### Bayesian Average\n",
    "貝葉斯平均值是透過外部資訊來衡量母體的平均值，這在資料集很小的時候很有用，為了防止資料過少而導致結果很極端。  \n",
    "可以想像增加 C 個資料至分母以及 C 個數值為 m 的資料至分子，如此便能加權平均原本的結果。\n",
    "\n",
    "Bayesian Average is defined as:\n",
    "\n",
    "$r_{i} = \\frac{C \\times m + \\Sigma{\\text{reviews}}}{C+N}$  \n",
    "如果資料集的變異程度很大，C 應該要小一點，反之則大。\n",
    "\n",
    "where $C$ represents our confidence, $m$ represents our prior, and $N$ is the total number of reviews for movie $i$. In this case, our prior will be the average rating across all movies. By defintion, C represents \"the typical dataset size\". Let's make $C$ be the average number of ratings for a given movie."
   ]
  },
  {
   "cell_type": "code",
   "execution_count": 341,
   "id": "91202d47",
   "metadata": {},
   "outputs": [
    {
     "data": {
      "text/html": [
       "<div>\n",
       "<style scoped>\n",
       "    .dataframe tbody tr th:only-of-type {\n",
       "        vertical-align: middle;\n",
       "    }\n",
       "\n",
       "    .dataframe tbody tr th {\n",
       "        vertical-align: top;\n",
       "    }\n",
       "\n",
       "    .dataframe thead th {\n",
       "        text-align: right;\n",
       "    }\n",
       "</style>\n",
       "<table border=\"1\" class=\"dataframe\">\n",
       "  <thead>\n",
       "    <tr style=\"text-align: right;\">\n",
       "      <th></th>\n",
       "      <th>count</th>\n",
       "      <th>mean</th>\n",
       "    </tr>\n",
       "    <tr>\n",
       "      <th>movieId</th>\n",
       "      <th></th>\n",
       "      <th></th>\n",
       "    </tr>\n",
       "  </thead>\n",
       "  <tbody>\n",
       "    <tr>\n",
       "      <th>1</th>\n",
       "      <td>215</td>\n",
       "      <td>3.920930</td>\n",
       "    </tr>\n",
       "    <tr>\n",
       "      <th>2</th>\n",
       "      <td>110</td>\n",
       "      <td>3.431818</td>\n",
       "    </tr>\n",
       "    <tr>\n",
       "      <th>3</th>\n",
       "      <td>52</td>\n",
       "      <td>3.259615</td>\n",
       "    </tr>\n",
       "    <tr>\n",
       "      <th>4</th>\n",
       "      <td>7</td>\n",
       "      <td>2.357143</td>\n",
       "    </tr>\n",
       "    <tr>\n",
       "      <th>5</th>\n",
       "      <td>49</td>\n",
       "      <td>3.071429</td>\n",
       "    </tr>\n",
       "    <tr>\n",
       "      <th>...</th>\n",
       "      <td>...</td>\n",
       "      <td>...</td>\n",
       "    </tr>\n",
       "    <tr>\n",
       "      <th>193581</th>\n",
       "      <td>1</td>\n",
       "      <td>4.000000</td>\n",
       "    </tr>\n",
       "    <tr>\n",
       "      <th>193583</th>\n",
       "      <td>1</td>\n",
       "      <td>3.500000</td>\n",
       "    </tr>\n",
       "    <tr>\n",
       "      <th>193585</th>\n",
       "      <td>1</td>\n",
       "      <td>3.500000</td>\n",
       "    </tr>\n",
       "    <tr>\n",
       "      <th>193587</th>\n",
       "      <td>1</td>\n",
       "      <td>3.500000</td>\n",
       "    </tr>\n",
       "    <tr>\n",
       "      <th>193609</th>\n",
       "      <td>1</td>\n",
       "      <td>4.000000</td>\n",
       "    </tr>\n",
       "  </tbody>\n",
       "</table>\n",
       "<p>9724 rows × 2 columns</p>\n",
       "</div>"
      ],
      "text/plain": [
       "         count      mean\n",
       "movieId                 \n",
       "1          215  3.920930\n",
       "2          110  3.431818\n",
       "3           52  3.259615\n",
       "4            7  2.357143\n",
       "5           49  3.071429\n",
       "...        ...       ...\n",
       "193581       1  4.000000\n",
       "193583       1  3.500000\n",
       "193585       1  3.500000\n",
       "193587       1  3.500000\n",
       "193609       1  4.000000\n",
       "\n",
       "[9724 rows x 2 columns]"
      ]
     },
     "execution_count": 341,
     "metadata": {},
     "output_type": "execute_result"
    }
   ],
   "source": [
    "movie_stats = ratings.groupby(\"movieId\")[[\"rating\"]].agg([\"count\", \"mean\"])\n",
    "movie_stats.columns = movie_stats.columns.droplevel()\n",
    "movie_stats"
   ]
  },
  {
   "cell_type": "code",
   "execution_count": 342,
   "id": "5ff865fd",
   "metadata": {},
   "outputs": [
    {
     "data": {
      "text/html": [
       "<div>\n",
       "<style scoped>\n",
       "    .dataframe tbody tr th:only-of-type {\n",
       "        vertical-align: middle;\n",
       "    }\n",
       "\n",
       "    .dataframe tbody tr th {\n",
       "        vertical-align: top;\n",
       "    }\n",
       "\n",
       "    .dataframe thead th {\n",
       "        text-align: right;\n",
       "    }\n",
       "</style>\n",
       "<table border=\"1\" class=\"dataframe\">\n",
       "  <thead>\n",
       "    <tr style=\"text-align: right;\">\n",
       "      <th></th>\n",
       "      <th>movieId</th>\n",
       "      <th>count</th>\n",
       "      <th>mean</th>\n",
       "      <th>bayesian_avg</th>\n",
       "    </tr>\n",
       "  </thead>\n",
       "  <tbody>\n",
       "    <tr>\n",
       "      <th>0</th>\n",
       "      <td>1</td>\n",
       "      <td>215</td>\n",
       "      <td>3.920930</td>\n",
       "      <td>3.890632</td>\n",
       "    </tr>\n",
       "    <tr>\n",
       "      <th>1</th>\n",
       "      <td>2</td>\n",
       "      <td>110</td>\n",
       "      <td>3.431818</td>\n",
       "      <td>3.417227</td>\n",
       "    </tr>\n",
       "    <tr>\n",
       "      <th>2</th>\n",
       "      <td>3</td>\n",
       "      <td>52</td>\n",
       "      <td>3.259615</td>\n",
       "      <td>3.260086</td>\n",
       "    </tr>\n",
       "    <tr>\n",
       "      <th>3</th>\n",
       "      <td>4</td>\n",
       "      <td>7</td>\n",
       "      <td>2.357143</td>\n",
       "      <td>2.897612</td>\n",
       "    </tr>\n",
       "    <tr>\n",
       "      <th>4</th>\n",
       "      <td>5</td>\n",
       "      <td>49</td>\n",
       "      <td>3.071429</td>\n",
       "      <td>3.104793</td>\n",
       "    </tr>\n",
       "    <tr>\n",
       "      <th>...</th>\n",
       "      <td>...</td>\n",
       "      <td>...</td>\n",
       "      <td>...</td>\n",
       "      <td>...</td>\n",
       "    </tr>\n",
       "    <tr>\n",
       "      <th>9719</th>\n",
       "      <td>193581</td>\n",
       "      <td>1</td>\n",
       "      <td>4.000000</td>\n",
       "      <td>3.327318</td>\n",
       "    </tr>\n",
       "    <tr>\n",
       "      <th>9720</th>\n",
       "      <td>193583</td>\n",
       "      <td>1</td>\n",
       "      <td>3.500000</td>\n",
       "      <td>3.283341</td>\n",
       "    </tr>\n",
       "    <tr>\n",
       "      <th>9721</th>\n",
       "      <td>193585</td>\n",
       "      <td>1</td>\n",
       "      <td>3.500000</td>\n",
       "      <td>3.283341</td>\n",
       "    </tr>\n",
       "    <tr>\n",
       "      <th>9722</th>\n",
       "      <td>193587</td>\n",
       "      <td>1</td>\n",
       "      <td>3.500000</td>\n",
       "      <td>3.283341</td>\n",
       "    </tr>\n",
       "    <tr>\n",
       "      <th>9723</th>\n",
       "      <td>193609</td>\n",
       "      <td>1</td>\n",
       "      <td>4.000000</td>\n",
       "      <td>3.327318</td>\n",
       "    </tr>\n",
       "  </tbody>\n",
       "</table>\n",
       "<p>9724 rows × 4 columns</p>\n",
       "</div>"
      ],
      "text/plain": [
       "      movieId  count      mean  bayesian_avg\n",
       "0           1    215  3.920930      3.890632\n",
       "1           2    110  3.431818      3.417227\n",
       "2           3     52  3.259615      3.260086\n",
       "3           4      7  2.357143      2.897612\n",
       "4           5     49  3.071429      3.104793\n",
       "...       ...    ...       ...           ...\n",
       "9719   193581      1  4.000000      3.327318\n",
       "9720   193583      1  3.500000      3.283341\n",
       "9721   193585      1  3.500000      3.283341\n",
       "9722   193587      1  3.500000      3.283341\n",
       "9723   193609      1  4.000000      3.327318\n",
       "\n",
       "[9724 rows x 4 columns]"
      ]
     },
     "execution_count": 342,
     "metadata": {},
     "output_type": "execute_result"
    }
   ],
   "source": [
    "C = movie_stats[\"count\"].mean()\n",
    "m = movie_stats[\"mean\"].mean()\n",
    "\n",
    "def bayesian_avg(ratings):\n",
    "    bayesian_avg = (C * m + ratings.sum()) / (C + ratings.count())\n",
    "    return bayesian_avg\n",
    "\n",
    "bayesian_avg_ratings = ratings.groupby(\"movieId\")[\"rating\"].agg(bayesian_avg).reset_index()\n",
    "bayesian_avg_ratings.columns = [\"movieId\", \"bayesian_avg\"]\n",
    "# bayesian_avg_ratings\n",
    "movie_stats = movie_stats.merge(bayesian_avg_ratings, on = \"movieId\")\n",
    "movie_stats"
   ]
  },
  {
   "cell_type": "code",
   "execution_count": 343,
   "id": "6eb2ce24",
   "metadata": {},
   "outputs": [
    {
     "data": {
      "text/html": [
       "<div>\n",
       "<style scoped>\n",
       "    .dataframe tbody tr th:only-of-type {\n",
       "        vertical-align: middle;\n",
       "    }\n",
       "\n",
       "    .dataframe tbody tr th {\n",
       "        vertical-align: top;\n",
       "    }\n",
       "\n",
       "    .dataframe thead th {\n",
       "        text-align: right;\n",
       "    }\n",
       "</style>\n",
       "<table border=\"1\" class=\"dataframe\">\n",
       "  <thead>\n",
       "    <tr style=\"text-align: right;\">\n",
       "      <th></th>\n",
       "      <th>movieId</th>\n",
       "      <th>count</th>\n",
       "      <th>mean</th>\n",
       "      <th>bayesian_avg</th>\n",
       "      <th>title</th>\n",
       "    </tr>\n",
       "  </thead>\n",
       "  <tbody>\n",
       "    <tr>\n",
       "      <th>277</th>\n",
       "      <td>318</td>\n",
       "      <td>317</td>\n",
       "      <td>4.429022</td>\n",
       "      <td>4.392070</td>\n",
       "      <td>Shawshank Redemption, The (1994)</td>\n",
       "    </tr>\n",
       "    <tr>\n",
       "      <th>659</th>\n",
       "      <td>858</td>\n",
       "      <td>192</td>\n",
       "      <td>4.289062</td>\n",
       "      <td>4.236457</td>\n",
       "      <td>Godfather, The (1972)</td>\n",
       "    </tr>\n",
       "    <tr>\n",
       "      <th>2224</th>\n",
       "      <td>2959</td>\n",
       "      <td>218</td>\n",
       "      <td>4.272936</td>\n",
       "      <td>4.227052</td>\n",
       "      <td>Fight Club (1999)</td>\n",
       "    </tr>\n",
       "    <tr>\n",
       "      <th>224</th>\n",
       "      <td>260</td>\n",
       "      <td>251</td>\n",
       "      <td>4.231076</td>\n",
       "      <td>4.192646</td>\n",
       "      <td>Star Wars: Episode IV - A New Hope (1977)</td>\n",
       "    </tr>\n",
       "    <tr>\n",
       "      <th>46</th>\n",
       "      <td>50</td>\n",
       "      <td>204</td>\n",
       "      <td>4.237745</td>\n",
       "      <td>4.190567</td>\n",
       "      <td>Usual Suspects, The (1995)</td>\n",
       "    </tr>\n",
       "  </tbody>\n",
       "</table>\n",
       "</div>"
      ],
      "text/plain": [
       "      movieId  count      mean  bayesian_avg  \\\n",
       "277       318    317  4.429022      4.392070   \n",
       "659       858    192  4.289062      4.236457   \n",
       "2224     2959    218  4.272936      4.227052   \n",
       "224       260    251  4.231076      4.192646   \n",
       "46         50    204  4.237745      4.190567   \n",
       "\n",
       "                                          title  \n",
       "277            Shawshank Redemption, The (1994)  \n",
       "659                       Godfather, The (1972)  \n",
       "2224                          Fight Club (1999)  \n",
       "224   Star Wars: Episode IV - A New Hope (1977)  \n",
       "46                   Usual Suspects, The (1995)  "
      ]
     },
     "execution_count": 343,
     "metadata": {},
     "output_type": "execute_result"
    }
   ],
   "source": [
    "movie_stats = movie_stats.merge(movies[[\"movieId\", \"title\"]])\n",
    "movie_stats.sort_values(by = \"bayesian_avg\", ascending = False).head()"
   ]
  },
  {
   "cell_type": "markdown",
   "id": "87269f5c",
   "metadata": {},
   "source": [
    "Using the Bayesian average, we see that `Shawshank Redemption`, `The Godfather`, and `Fight Club` are the most highly rated movies. This result makes much more sense since these movies are critically acclaimed films.\n",
    "\n",
    "Now which movies are the worst rated, according to the Bayesian average?"
   ]
  },
  {
   "cell_type": "code",
   "execution_count": 344,
   "id": "bf606e9c",
   "metadata": {},
   "outputs": [
    {
     "data": {
      "text/html": [
       "<div>\n",
       "<style scoped>\n",
       "    .dataframe tbody tr th:only-of-type {\n",
       "        vertical-align: middle;\n",
       "    }\n",
       "\n",
       "    .dataframe tbody tr th {\n",
       "        vertical-align: top;\n",
       "    }\n",
       "\n",
       "    .dataframe thead th {\n",
       "        text-align: right;\n",
       "    }\n",
       "</style>\n",
       "<table border=\"1\" class=\"dataframe\">\n",
       "  <thead>\n",
       "    <tr style=\"text-align: right;\">\n",
       "      <th></th>\n",
       "      <th>movieId</th>\n",
       "      <th>count</th>\n",
       "      <th>mean</th>\n",
       "      <th>bayesian_avg</th>\n",
       "      <th>title</th>\n",
       "    </tr>\n",
       "  </thead>\n",
       "  <tbody>\n",
       "    <tr>\n",
       "      <th>1172</th>\n",
       "      <td>1556</td>\n",
       "      <td>19</td>\n",
       "      <td>1.605263</td>\n",
       "      <td>2.190377</td>\n",
       "      <td>Speed 2: Cruise Control (1997)</td>\n",
       "    </tr>\n",
       "    <tr>\n",
       "      <th>2679</th>\n",
       "      <td>3593</td>\n",
       "      <td>19</td>\n",
       "      <td>1.657895</td>\n",
       "      <td>2.224426</td>\n",
       "      <td>Battlefield Earth (2000)</td>\n",
       "    </tr>\n",
       "    <tr>\n",
       "      <th>1372</th>\n",
       "      <td>1882</td>\n",
       "      <td>33</td>\n",
       "      <td>1.954545</td>\n",
       "      <td>2.267268</td>\n",
       "      <td>Godzilla (1998)</td>\n",
       "    </tr>\n",
       "    <tr>\n",
       "      <th>1144</th>\n",
       "      <td>1499</td>\n",
       "      <td>27</td>\n",
       "      <td>1.925926</td>\n",
       "      <td>2.296800</td>\n",
       "      <td>Anaconda (1997)</td>\n",
       "    </tr>\n",
       "    <tr>\n",
       "      <th>1988</th>\n",
       "      <td>2643</td>\n",
       "      <td>16</td>\n",
       "      <td>1.687500</td>\n",
       "      <td>2.306841</td>\n",
       "      <td>Superman IV: The Quest for Peace (1987)</td>\n",
       "    </tr>\n",
       "  </tbody>\n",
       "</table>\n",
       "</div>"
      ],
      "text/plain": [
       "      movieId  count      mean  bayesian_avg  \\\n",
       "1172     1556     19  1.605263      2.190377   \n",
       "2679     3593     19  1.657895      2.224426   \n",
       "1372     1882     33  1.954545      2.267268   \n",
       "1144     1499     27  1.925926      2.296800   \n",
       "1988     2643     16  1.687500      2.306841   \n",
       "\n",
       "                                        title  \n",
       "1172           Speed 2: Cruise Control (1997)  \n",
       "2679                 Battlefield Earth (2000)  \n",
       "1372                          Godzilla (1998)  \n",
       "1144                          Anaconda (1997)  \n",
       "1988  Superman IV: The Quest for Peace (1987)  "
      ]
     },
     "execution_count": 344,
     "metadata": {},
     "output_type": "execute_result"
    }
   ],
   "source": [
    "movie_stats.sort_values(by = \"bayesian_avg\", ascending = True).head()"
   ]
  },
  {
   "cell_type": "markdown",
   "id": "67bbeed3",
   "metadata": {},
   "source": [
    "With Bayesian averaging, it looks like `Speed 2: Cruise Control`, `Battlefield Earth`, and `Godzilla` are the worst rated movies. `Gypsy` isn't so bad after all!"
   ]
  },
  {
   "cell_type": "code",
   "execution_count": 345,
   "id": "5ebcfd50",
   "metadata": {},
   "outputs": [
    {
     "data": {
      "text/html": [
       "<div>\n",
       "<style scoped>\n",
       "    .dataframe tbody tr th:only-of-type {\n",
       "        vertical-align: middle;\n",
       "    }\n",
       "\n",
       "    .dataframe tbody tr th {\n",
       "        vertical-align: top;\n",
       "    }\n",
       "\n",
       "    .dataframe thead th {\n",
       "        text-align: right;\n",
       "    }\n",
       "</style>\n",
       "<table border=\"1\" class=\"dataframe\">\n",
       "  <thead>\n",
       "    <tr style=\"text-align: right;\">\n",
       "      <th></th>\n",
       "      <th>movieId</th>\n",
       "      <th>count</th>\n",
       "      <th>mean</th>\n",
       "      <th>bayesian_avg</th>\n",
       "      <th>title</th>\n",
       "    </tr>\n",
       "  </thead>\n",
       "  <tbody>\n",
       "    <tr>\n",
       "      <th>2685</th>\n",
       "      <td>3604</td>\n",
       "      <td>1</td>\n",
       "      <td>0.5</td>\n",
       "      <td>3.019485</td>\n",
       "      <td>Gypsy (1962)</td>\n",
       "    </tr>\n",
       "  </tbody>\n",
       "</table>\n",
       "</div>"
      ],
      "text/plain": [
       "      movieId  count  mean  bayesian_avg         title\n",
       "2685     3604      1   0.5      3.019485  Gypsy (1962)"
      ]
     },
     "execution_count": 345,
     "metadata": {},
     "output_type": "execute_result"
    }
   ],
   "source": [
    "# 這裡只是好奇使用者講的電影 bayesian_avg 是多少 XD\n",
    "movie_stats[movie_stats[\"title\"].str.contains(\"Gypsy\")]"
   ]
  },
  {
   "cell_type": "markdown",
   "id": "c5661023",
   "metadata": {},
   "source": [
    "## Step 4: Transforming the data\n",
    "\n",
    "We will be using a technique called [collaborative filtering](https://en.wikipedia.org/wiki/Collaborative_filtering) to generate user recommendations. This technique is based on the assumption of \"homophily\" - similar users like similar things. Collaborative filtering is a type of unsupervised learning that makes predictions about the interests of a user by learning from the interests of a larger population.\n",
    "\n",
    "The first step of collaborative filtering is to transform our data into a `user-item matrix` - also known as a \"utility\" matrix. In this matrix, rows represent users and columns represent items. The beauty of collaborative filtering is that it doesn't require any information about the users or items to generate recommendations. \n",
    "\n",
    "\n",
    "<img src=\"images/user-movie-matrix.png\" width=\"500px\" align=\"left\">"
   ]
  },
  {
   "cell_type": "markdown",
   "id": "bdb8ec98",
   "metadata": {},
   "source": [
    "The `create_X()` function outputs a sparse matrix X with four mapper dictionaries:\n",
    "- **user_mapper:** maps user id to user index\n",
    "- **movie_mapper:** maps movie id to movie index\n",
    "- **user_inv_mapper:** maps user index to user id\n",
    "- **movie_inv_mapper:** maps movie index to movie id\n",
    "\n",
    "以下的做法是因為 utility matrix 會從 0 開始，而 user ID 和 movie ID 是從 1 開始，所以才要這樣做。  \n",
    "We need these dictionaries because they map which row and column of the utility matrix corresponds to which user ID and movie ID, respectively.\n",
    "\n",
    "The **X** (user-item) matrix is a [scipy.sparse.csr_matrix](scipylinkhere) which stores the data sparsely."
   ]
  },
  {
   "cell_type": "markdown",
   "id": "009e2f46",
   "metadata": {},
   "source": [
    "csr_matrix 參數的順序跟上方的圖不一樣，列為電影數是為了要做 item-item，反之則是 user-user\n",
    "<img src=\"images/csr_matrix.png\" width=\"95%\">"
   ]
  },
  {
   "cell_type": "code",
   "execution_count": 346,
   "id": "24cf2101",
   "metadata": {},
   "outputs": [],
   "source": [
    "from scipy.sparse import csr_matrix # Compressed Sparse Row\n",
    "\n",
    "def create_X(df):\n",
    "    \"\"\"\n",
    "    Generates a sparse matrix from ratings dataframe.\n",
    "    \n",
    "    Args:\n",
    "        df: pandas dataframe\n",
    "    \n",
    "    Returns:\n",
    "        X: sparse matrix\n",
    "        user_mapper: dict that maps user id's to user indices\n",
    "        user_inv_mapper: dict that maps user indices to user id's\n",
    "        movie_mapper: dict that maps movie id's to movie indices\n",
    "        movie_inv_mapper: dict that maps movie indices to movie id's\n",
    "    \"\"\"\n",
    "    N = df[\"userId\"].nunique()\n",
    "    M = df[\"movieId\"].nunique()\n",
    "\n",
    "    user_mapper = dict(zip(df[\"userId\"].unique(), list(range(N)))) # 1 ~ 610 maps 0 ~ 609\n",
    "    movie_mapper = dict(zip(np.unique(df[\"movieId\"]), list(range(M))))\n",
    "\n",
    "    user_inv_mapper = dict(zip(list(range(N)), df[\"userId\"].unique()))\n",
    "    movie_inv_mapper = dict(zip(list(range(M)), np.unique(df[\"movieId\"])))\n",
    "\n",
    "    user_index = [user_mapper[i] for i in df[\"userId\"]] # 每位使用者的 index，可能會重複多筆 (對多個電影的評論)\n",
    "    movie_index = [movie_mapper[i] for i in df[\"movieId\"]] # 每部電影的 index，在 utility matrix 中，由上而下一直變動，直到換另一位使用者評論\n",
    "\n",
    "    X = csr_matrix((df[\"rating\"], (movie_index, user_index)), shape = (M, N))\n",
    "    # 上一行程式碼如同以下迴圈\n",
    "    # for idx in range(len(df)):\n",
    "        # row = movie_index[idx]\n",
    "        # col = user_index[idx]\n",
    "        # val = df[\"rating\"].iloc[idx]\n",
    "        # X[row, col] = val\n",
    "\n",
    "    return X, user_mapper, movie_mapper, user_inv_mapper, movie_inv_mapper"
   ]
  },
  {
   "cell_type": "code",
   "execution_count": 347,
   "id": "02ec3399",
   "metadata": {},
   "outputs": [],
   "source": [
    "X, user_mapper, movie_mapper, user_inv_mapper, movie_inv_mapper = create_X(ratings)"
   ]
  },
  {
   "cell_type": "markdown",
   "id": "daf87a8f",
   "metadata": {},
   "source": [
    "Let's check out the sparsity of our X matrix.\n",
    "\n",
    "Here, we calculate sparsity by dividing the number of non-zero elements by total number of elements as described in the equation below:   \n",
    "以下公式原作者似乎加上 # ，所以有出錯\n",
    "\n",
    "$$S=\\frac{\\text{non-zero elements}}{\\text{total elements}}$$"
   ]
  },
  {
   "cell_type": "code",
   "execution_count": 348,
   "id": "be7e732f",
   "metadata": {},
   "outputs": [
    {
     "data": {
      "text/plain": [
       "<Compressed Sparse Row sparse matrix of dtype 'float64'\n",
       "\twith 100836 stored elements and shape (9724, 610)>"
      ]
     },
     "execution_count": 348,
     "metadata": {},
     "output_type": "execute_result"
    }
   ],
   "source": [
    "X # CSR 矩陣物件可以看出一些數據"
   ]
  },
  {
   "cell_type": "code",
   "execution_count": 349,
   "id": "cd461931",
   "metadata": {},
   "outputs": [
    {
     "data": {
      "text/plain": [
       "0.017"
      ]
     },
     "execution_count": 349,
     "metadata": {},
     "output_type": "execute_result"
    }
   ],
   "source": [
    "round(100836 / (9724 * 610), 4)"
   ]
  },
  {
   "cell_type": "code",
   "execution_count": 350,
   "id": "105348af",
   "metadata": {},
   "outputs": [
    {
     "name": "stdout",
     "output_type": "stream",
     "text": [
      "Matrix sparsity: 1.7%\n"
     ]
    }
   ],
   "source": [
    "sparsity = X.count_nonzero() / (X.shape[0] * X.shape[1])\n",
    "print(f\"Matrix sparsity: {round(sparsity * 100, 2)}%\")"
   ]
  },
  {
   "cell_type": "markdown",
   "id": "5254ca68",
   "metadata": {},
   "source": [
    "Only 1.7% of cells in our user-item matrix are populated with ratings. But don't be discouraged by this sparsity! User-item matrices are typically very sparse. A general rule of thumb is that your matrix sparsity should be no lower than 0.5% to generate decent results."
   ]
  },
  {
   "cell_type": "markdown",
   "id": "6f9dea07",
   "metadata": {},
   "source": [
    "### Writing your matrix to a file\n",
    "\n",
    "We're going to save our user-item matrix for the next part of this tutorial series. Since our matrix is represented as a scipy sparse matrix, we can use the [scipy.sparse.save_npz](https://docs.scipy.org/doc/scipy-1.1.0/reference/generated/scipy.sparse.load_npz.html) method to write the matrix to a file. "
   ]
  },
  {
   "cell_type": "code",
   "execution_count": 351,
   "id": "e8e058da",
   "metadata": {},
   "outputs": [],
   "source": [
    "from scipy.sparse import save_npz # numpy 陣列檔打包起來的 zip 檔\n",
    "\n",
    "save_npz(\"./data/user_item_matrix.npz\", X) # or utility matrix"
   ]
  },
  {
   "cell_type": "code",
   "execution_count": 352,
   "id": "c70fe57b",
   "metadata": {},
   "outputs": [
    {
     "data": {
      "text/plain": [
       "<Compressed Sparse Row sparse matrix of dtype 'float64'\n",
       "\twith 100836 stored elements and shape (9724, 610)>"
      ]
     },
     "execution_count": 352,
     "metadata": {},
     "output_type": "execute_result"
    }
   ],
   "source": [
    "# 下次使用\n",
    "from scipy.sparse import load_npz\n",
    "\n",
    "X = load_npz(\"./data/user_item_matrix.npz\")\n",
    "X"
   ]
  },
  {
   "cell_type": "markdown",
   "id": "d2f3e139",
   "metadata": {},
   "source": [
    "<img src=\"images/knn.png\" width=\"20%\" align=\"right\"/>\n",
    "\n",
    "## Step 5: Finding similar movies using k-Nearest Neighbours\n",
    "\n",
    "This approach looks for the $k$ nearest neighbours of a given movie by identifying $k$ points in the dataset that are closest to movie $m$. kNN makes use of distance metrics such as:\n",
    "\n",
    "1. Cosine similarity\n",
    "2. Euclidean distance\n",
    "3. Manhattan distance\n",
    "4. Pearson correlation \n",
    "\n",
    "Although difficult to visualize, we are working in a M-dimensional space where M represents the number of movies in our X matrix. "
   ]
  },
  {
   "cell_type": "markdown",
   "id": "eee18f76",
   "metadata": {},
   "source": [
    "在分類任務中，KNN 是屬於監督式學習，而在推薦系統中是非監督式學習，我們會透過像是 Cosine similarity 推出相似的電影"
   ]
  },
  {
   "cell_type": "code",
   "execution_count": 353,
   "id": "62c365af",
   "metadata": {},
   "outputs": [
    {
     "name": "stdout",
     "output_type": "stream",
     "text": [
      "<Compressed Sparse Row sparse matrix of dtype 'float64'\n",
      "\twith 215 stored elements and shape (1, 610)>\n",
      "  Coords\tValues\n",
      "  (0, 0)\t4.0\n",
      "  (0, 4)\t4.0\n",
      "  (0, 6)\t4.5\n",
      "  (0, 14)\t2.5\n",
      "  (0, 16)\t4.5\n",
      "  (0, 17)\t3.5\n",
      "  (0, 18)\t4.0\n",
      "  (0, 20)\t3.5\n",
      "  (0, 26)\t3.0\n",
      "  (0, 30)\t5.0\n",
      "  (0, 31)\t3.0\n",
      "  (0, 32)\t3.0\n",
      "  (0, 39)\t5.0\n",
      "  (0, 42)\t5.0\n",
      "  (0, 43)\t3.0\n",
      "  (0, 44)\t4.0\n",
      "  (0, 45)\t5.0\n",
      "  (0, 49)\t3.0\n",
      "  (0, 53)\t3.0\n",
      "  (0, 56)\t5.0\n",
      "  (0, 62)\t5.0\n",
      "  (0, 63)\t4.0\n",
      "  (0, 65)\t4.0\n",
      "  (0, 67)\t2.5\n",
      "  (0, 70)\t5.0\n",
      "  :\t:\n",
      "  (0, 559)\t3.0\n",
      "  (0, 560)\t4.0\n",
      "  (0, 561)\t4.5\n",
      "  (0, 566)\t3.5\n",
      "  (0, 569)\t4.0\n",
      "  (0, 571)\t4.0\n",
      "  (0, 572)\t5.0\n",
      "  (0, 578)\t4.0\n",
      "  (0, 579)\t3.0\n",
      "  (0, 583)\t5.0\n",
      "  (0, 586)\t5.0\n",
      "  (0, 589)\t4.0\n",
      "  (0, 595)\t4.0\n",
      "  (0, 596)\t4.0\n",
      "  (0, 598)\t3.0\n",
      "  (0, 599)\t2.5\n",
      "  (0, 600)\t4.0\n",
      "  (0, 602)\t4.0\n",
      "  (0, 603)\t3.0\n",
      "  (0, 604)\t4.0\n",
      "  (0, 605)\t2.5\n",
      "  (0, 606)\t4.0\n",
      "  (0, 607)\t2.5\n",
      "  (0, 608)\t3.0\n",
      "  (0, 609)\t5.0\n"
     ]
    }
   ],
   "source": [
    "print(X[0]) # 用 print 可以預覽一些 CSR 的資料"
   ]
  },
  {
   "cell_type": "code",
   "execution_count": 354,
   "id": "18a4e363",
   "metadata": {},
   "outputs": [
    {
     "name": "stdout",
     "output_type": "stream",
     "text": [
      "<class 'scipy.sparse._csr.csr_matrix'>\n",
      "<class 'scipy.sparse._csr.csr_matrix'>\n"
     ]
    }
   ],
   "source": [
    "print(type(X))\n",
    "print(type(X[0]))"
   ]
  },
  {
   "cell_type": "code",
   "execution_count": 355,
   "id": "11601dd3",
   "metadata": {},
   "outputs": [],
   "source": [
    "from sklearn.neighbors import NearestNeighbors\n",
    "# from sklearn.neighbors import KNeighborsClassifier\n",
    "\n",
    "def find_similar_movies(movie_id, X, k, metric = \"cosine\", show_distance = False):\n",
    "    \"\"\"\n",
    "    Finds k-nearest neighbours for a given movie id.\n",
    "    \n",
    "    Args:\n",
    "        movie_id: id of the movie of interest\n",
    "        X: user-item utility matrix\n",
    "        k: number of similar movies to retrieve\n",
    "        metric: distance metric for kNN calculations\n",
    "    \n",
    "    Returns:\n",
    "        list of k similar movie ID's\n",
    "    \"\"\"\n",
    "    neighbour_ids = []\n",
    "    movie_ind = movie_mapper[movie_id]\n",
    "    movie_vec = X[movie_ind]\n",
    "    k += 1 # 自己跟自己會最像，所以要先加進來，後面會再移除\n",
    "    KNN = NearestNeighbors(n_neighbors = k, algorithm = \"brute\", metric = metric) # brute 每一對都算距離，適合高維資料\n",
    "    KNN.fit(X)\n",
    "    if isinstance(movie_vec, (np.ndarray)): # 如果是 np 類別的話\n",
    "        movie_vec = movie_vec.reshape(1, -1) # 確保輸入是 2D 的，csr 則不用改，本身就是 (1, n) 的形狀\n",
    "    neighbour = KNN.kneighbors(movie_vec, return_distance = show_distance) # 結果是 2D array\n",
    "    for i in range(k):\n",
    "        n = neighbour.item(i) # item(0) 就是 [0][0]\n",
    "        neighbour_ids.append(movie_inv_mapper[n])\n",
    "    neighbour_ids.pop(0)\n",
    "    return neighbour_ids"
   ]
  },
  {
   "cell_type": "code",
   "execution_count": 356,
   "id": "51430e8f",
   "metadata": {},
   "outputs": [],
   "source": [
    "# movie_id = 1\n",
    "# find_similar_movies(movie_id, X, k = 10, show_distance = True)[1].item(0) # 如果顯示距離的話，會回傳 tuple 包起來的兩個 array"
   ]
  },
  {
   "cell_type": "markdown",
   "id": "a16f1be8",
   "metadata": {},
   "source": [
    "`find_similar_movies()` takes in a movieId and user-item X matrix, and outputs a list of $k$ movies that are similar to the movieId of interest. \n",
    "\n",
    "Let's see how it works in action. We will first create another mapper that maps `movieId` to `title` so that our results are interpretable. "
   ]
  },
  {
   "cell_type": "code",
   "execution_count": 357,
   "id": "ec79bc2e",
   "metadata": {},
   "outputs": [
    {
     "name": "stdout",
     "output_type": "stream",
     "text": [
      "Because you watched Toy Story (1995)\n",
      "Toy Story 2 (1999)\n",
      "Jurassic Park (1993)\n",
      "Independence Day (a.k.a. ID4) (1996)\n",
      "Star Wars: Episode IV - A New Hope (1977)\n",
      "Forrest Gump (1994)\n",
      "Lion King, The (1994)\n",
      "Star Wars: Episode VI - Return of the Jedi (1983)\n",
      "Mission: Impossible (1996)\n",
      "Groundhog Day (1993)\n",
      "Back to the Future (1985)\n"
     ]
    }
   ],
   "source": [
    "movie_titles = dict(zip(movies[\"movieId\"], movies[\"title\"]))\n",
    "# movie_titles\n",
    "movie_id = 1\n",
    "similar_ids = find_similar_movies(movie_id, X, k = 10)\n",
    "movie_title = movie_titles[movie_id]\n",
    "\n",
    "print(f\"Because you watched {movie_title}\")\n",
    "for i in similar_ids:\n",
    "    print(movie_titles[i])"
   ]
  },
  {
   "cell_type": "markdown",
   "id": "81c33c55",
   "metadata": {},
   "source": [
    "The results above show the 10 most similar movies to Toy Story. Most movies in this list are family movies from the 1990s, which seems pretty reasonable. Note that these recommendations are based solely on user-item ratings. Movie features such as genres are not taken into consideration in this approach.  "
   ]
  },
  {
   "cell_type": "code",
   "execution_count": 358,
   "id": "b8895cde",
   "metadata": {},
   "outputs": [
    {
     "data": {
      "text/html": [
       "<div>\n",
       "<style scoped>\n",
       "    .dataframe tbody tr th:only-of-type {\n",
       "        vertical-align: middle;\n",
       "    }\n",
       "\n",
       "    .dataframe tbody tr th {\n",
       "        vertical-align: top;\n",
       "    }\n",
       "\n",
       "    .dataframe thead th {\n",
       "        text-align: right;\n",
       "    }\n",
       "</style>\n",
       "<table border=\"1\" class=\"dataframe\">\n",
       "  <thead>\n",
       "    <tr style=\"text-align: right;\">\n",
       "      <th></th>\n",
       "      <th>movieId</th>\n",
       "      <th>count</th>\n",
       "      <th>mean</th>\n",
       "      <th>bayesian_avg</th>\n",
       "      <th>title</th>\n",
       "    </tr>\n",
       "  </thead>\n",
       "  <tbody>\n",
       "    <tr>\n",
       "      <th>277</th>\n",
       "      <td>318</td>\n",
       "      <td>317</td>\n",
       "      <td>4.429022</td>\n",
       "      <td>4.39207</td>\n",
       "      <td>Shawshank Redemption, The (1994)</td>\n",
       "    </tr>\n",
       "  </tbody>\n",
       "</table>\n",
       "</div>"
      ],
      "text/plain": [
       "    movieId count      mean bayesian_avg                             title\n",
       "277     318   317  4.429022      4.39207  Shawshank Redemption, The (1994)"
      ]
     },
     "metadata": {},
     "output_type": "display_data"
    },
    {
     "data": {
      "text/html": [
       "<div>\n",
       "<style scoped>\n",
       "    .dataframe tbody tr th:only-of-type {\n",
       "        vertical-align: middle;\n",
       "    }\n",
       "\n",
       "    .dataframe tbody tr th {\n",
       "        vertical-align: top;\n",
       "    }\n",
       "\n",
       "    .dataframe thead th {\n",
       "        text-align: right;\n",
       "    }\n",
       "</style>\n",
       "<table border=\"1\" class=\"dataframe\">\n",
       "  <thead>\n",
       "    <tr style=\"text-align: right;\">\n",
       "      <th></th>\n",
       "      <th>movieId</th>\n",
       "      <th>count</th>\n",
       "      <th>mean</th>\n",
       "      <th>bayesian_avg</th>\n",
       "      <th>title</th>\n",
       "    </tr>\n",
       "  </thead>\n",
       "  <tbody>\n",
       "    <tr>\n",
       "      <th>1172</th>\n",
       "      <td>1556</td>\n",
       "      <td>19</td>\n",
       "      <td>1.605263</td>\n",
       "      <td>2.190377</td>\n",
       "      <td>Speed 2: Cruise Control (1997)</td>\n",
       "    </tr>\n",
       "  </tbody>\n",
       "</table>\n",
       "</div>"
      ],
      "text/plain": [
       "     movieId count      mean bayesian_avg                           title\n",
       "1172    1556    19  1.605263     2.190377  Speed 2: Cruise Control (1997)"
      ]
     },
     "execution_count": 358,
     "metadata": {},
     "output_type": "execute_result"
    }
   ],
   "source": [
    "max_bayesian_avg_index = movie_stats[\"bayesian_avg\"].idxmax()\n",
    "min_bayesian_avg_index = movie_stats[\"bayesian_avg\"].idxmin()\n",
    "\n",
    "display(movie_stats.iloc[max_bayesian_avg_index].to_frame().T) # 最大貝葉斯平均\n",
    "movie_stats.iloc[min_bayesian_avg_index].to_frame().T # 最小貝葉斯平均"
   ]
  },
  {
   "cell_type": "markdown",
   "id": "e940feca",
   "metadata": {},
   "source": [
    "You can also play around with the kNN distance metric and see what results you would get if you use \"manhattan\" or \"euclidean\" instead of \"cosine\"."
   ]
  },
  {
   "cell_type": "code",
   "execution_count": 359,
   "id": "b9d2ce38",
   "metadata": {},
   "outputs": [
    {
     "name": "stdout",
     "output_type": "stream",
     "text": [
      "Because you watched Toy Story (1995):\n",
      "Toy Story 2 (1999)\n",
      "Mission: Impossible (1996)\n",
      "Independence Day (a.k.a. ID4) (1996)\n",
      "Bug's Life, A (1998)\n",
      "Nutty Professor, The (1996)\n",
      "Willy Wonka & the Chocolate Factory (1971)\n",
      "Babe (1995)\n",
      "Groundhog Day (1993)\n",
      "Mask, The (1994)\n",
      "Honey, I Shrunk the Kids (1989)\n"
     ]
    }
   ],
   "source": [
    "movie_titles = dict(zip(movies[\"movieId\"], movies[\"title\"]))\n",
    "\n",
    "movie_id = 1\n",
    "similar_ids = find_similar_movies(movie_id, X, k = 10, metric = \"euclidean\")\n",
    "\n",
    "movie_title = movie_titles[movie_id]\n",
    "\n",
    "print(f\"Because you watched {movie_title}:\")\n",
    "for i in similar_ids:\n",
    "    print(movie_titles[i])"
   ]
  },
  {
   "cell_type": "code",
   "execution_count": 360,
   "id": "76d65546",
   "metadata": {},
   "outputs": [
    {
     "data": {
      "text/html": [
       "<div>\n",
       "<style scoped>\n",
       "    .dataframe tbody tr th:only-of-type {\n",
       "        vertical-align: middle;\n",
       "    }\n",
       "\n",
       "    .dataframe tbody tr th {\n",
       "        vertical-align: top;\n",
       "    }\n",
       "\n",
       "    .dataframe thead th {\n",
       "        text-align: right;\n",
       "    }\n",
       "</style>\n",
       "<table border=\"1\" class=\"dataframe\">\n",
       "  <thead>\n",
       "    <tr style=\"text-align: right;\">\n",
       "      <th></th>\n",
       "      <th>movieId</th>\n",
       "      <th>count</th>\n",
       "      <th>mean</th>\n",
       "      <th>bayesian_avg</th>\n",
       "      <th>title</th>\n",
       "    </tr>\n",
       "  </thead>\n",
       "  <tbody>\n",
       "    <tr>\n",
       "      <th>0</th>\n",
       "      <td>1</td>\n",
       "      <td>215</td>\n",
       "      <td>3.92093</td>\n",
       "      <td>3.890632</td>\n",
       "      <td>Toy Story (1995)</td>\n",
       "    </tr>\n",
       "  </tbody>\n",
       "</table>\n",
       "</div>"
      ],
      "text/plain": [
       "   movieId  count     mean  bayesian_avg             title\n",
       "0        1    215  3.92093      3.890632  Toy Story (1995)"
      ]
     },
     "metadata": {},
     "output_type": "display_data"
    },
    {
     "data": {
      "text/html": [
       "<div>\n",
       "<style scoped>\n",
       "    .dataframe tbody tr th:only-of-type {\n",
       "        vertical-align: middle;\n",
       "    }\n",
       "\n",
       "    .dataframe tbody tr th {\n",
       "        vertical-align: top;\n",
       "    }\n",
       "\n",
       "    .dataframe thead th {\n",
       "        text-align: right;\n",
       "    }\n",
       "</style>\n",
       "<table border=\"1\" class=\"dataframe\">\n",
       "  <thead>\n",
       "    <tr style=\"text-align: right;\">\n",
       "      <th></th>\n",
       "      <th>movieId</th>\n",
       "      <th>count</th>\n",
       "      <th>mean</th>\n",
       "      <th>bayesian_avg</th>\n",
       "      <th>title</th>\n",
       "    </tr>\n",
       "  </thead>\n",
       "  <tbody>\n",
       "    <tr>\n",
       "      <th>2353</th>\n",
       "      <td>3114</td>\n",
       "      <td>97</td>\n",
       "      <td>3.860825</td>\n",
       "      <td>3.803033</td>\n",
       "      <td>Toy Story 2 (1999)</td>\n",
       "    </tr>\n",
       "  </tbody>\n",
       "</table>\n",
       "</div>"
      ],
      "text/plain": [
       "      movieId  count      mean  bayesian_avg               title\n",
       "2353     3114     97  3.860825      3.803033  Toy Story 2 (1999)"
      ]
     },
     "metadata": {},
     "output_type": "display_data"
    },
    {
     "data": {
      "text/html": [
       "<div>\n",
       "<style scoped>\n",
       "    .dataframe tbody tr th:only-of-type {\n",
       "        vertical-align: middle;\n",
       "    }\n",
       "\n",
       "    .dataframe tbody tr th {\n",
       "        vertical-align: top;\n",
       "    }\n",
       "\n",
       "    .dataframe thead th {\n",
       "        text-align: right;\n",
       "    }\n",
       "</style>\n",
       "<table border=\"1\" class=\"dataframe\">\n",
       "  <thead>\n",
       "    <tr style=\"text-align: right;\">\n",
       "      <th></th>\n",
       "      <th>movieId</th>\n",
       "      <th>count</th>\n",
       "      <th>mean</th>\n",
       "      <th>bayesian_avg</th>\n",
       "      <th>title</th>\n",
       "    </tr>\n",
       "  </thead>\n",
       "  <tbody>\n",
       "    <tr>\n",
       "      <th>546</th>\n",
       "      <td>648</td>\n",
       "      <td>162</td>\n",
       "      <td>3.537037</td>\n",
       "      <td>3.520518</td>\n",
       "      <td>Mission: Impossible (1996)</td>\n",
       "    </tr>\n",
       "  </tbody>\n",
       "</table>\n",
       "</div>"
      ],
      "text/plain": [
       "     movieId  count      mean  bayesian_avg                       title\n",
       "546      648    162  3.537037      3.520518  Mission: Impossible (1996)"
      ]
     },
     "metadata": {},
     "output_type": "display_data"
    },
    {
     "data": {
      "text/html": [
       "<div>\n",
       "<style scoped>\n",
       "    .dataframe tbody tr th:only-of-type {\n",
       "        vertical-align: middle;\n",
       "    }\n",
       "\n",
       "    .dataframe tbody tr th {\n",
       "        vertical-align: top;\n",
       "    }\n",
       "\n",
       "    .dataframe thead th {\n",
       "        text-align: right;\n",
       "    }\n",
       "</style>\n",
       "<table border=\"1\" class=\"dataframe\">\n",
       "  <thead>\n",
       "    <tr style=\"text-align: right;\">\n",
       "      <th></th>\n",
       "      <th>movieId</th>\n",
       "      <th>count</th>\n",
       "      <th>mean</th>\n",
       "      <th>bayesian_avg</th>\n",
       "      <th>title</th>\n",
       "    </tr>\n",
       "  </thead>\n",
       "  <tbody>\n",
       "    <tr>\n",
       "      <th>615</th>\n",
       "      <td>780</td>\n",
       "      <td>202</td>\n",
       "      <td>3.445545</td>\n",
       "      <td>3.436604</td>\n",
       "      <td>Independence Day (a.k.a. ID4) (1996)</td>\n",
       "    </tr>\n",
       "  </tbody>\n",
       "</table>\n",
       "</div>"
      ],
      "text/plain": [
       "     movieId  count      mean  bayesian_avg  \\\n",
       "615      780    202  3.445545      3.436604   \n",
       "\n",
       "                                    title  \n",
       "615  Independence Day (a.k.a. ID4) (1996)  "
      ]
     },
     "metadata": {},
     "output_type": "display_data"
    },
    {
     "data": {
      "text/html": [
       "<div>\n",
       "<style scoped>\n",
       "    .dataframe tbody tr th:only-of-type {\n",
       "        vertical-align: middle;\n",
       "    }\n",
       "\n",
       "    .dataframe tbody tr th {\n",
       "        vertical-align: top;\n",
       "    }\n",
       "\n",
       "    .dataframe thead th {\n",
       "        text-align: right;\n",
       "    }\n",
       "</style>\n",
       "<table border=\"1\" class=\"dataframe\">\n",
       "  <thead>\n",
       "    <tr style=\"text-align: right;\">\n",
       "      <th></th>\n",
       "      <th>movieId</th>\n",
       "      <th>count</th>\n",
       "      <th>mean</th>\n",
       "      <th>bayesian_avg</th>\n",
       "      <th>title</th>\n",
       "    </tr>\n",
       "  </thead>\n",
       "  <tbody>\n",
       "    <tr>\n",
       "      <th>1756</th>\n",
       "      <td>2355</td>\n",
       "      <td>92</td>\n",
       "      <td>3.516304</td>\n",
       "      <td>3.490589</td>\n",
       "      <td>Bug's Life, A (1998)</td>\n",
       "    </tr>\n",
       "  </tbody>\n",
       "</table>\n",
       "</div>"
      ],
      "text/plain": [
       "      movieId  count      mean  bayesian_avg                 title\n",
       "1756     2355     92  3.516304      3.490589  Bug's Life, A (1998)"
      ]
     },
     "metadata": {},
     "output_type": "display_data"
    },
    {
     "data": {
      "text/html": [
       "<div>\n",
       "<style scoped>\n",
       "    .dataframe tbody tr th:only-of-type {\n",
       "        vertical-align: middle;\n",
       "    }\n",
       "\n",
       "    .dataframe tbody tr th {\n",
       "        vertical-align: top;\n",
       "    }\n",
       "\n",
       "    .dataframe thead th {\n",
       "        text-align: right;\n",
       "    }\n",
       "</style>\n",
       "<table border=\"1\" class=\"dataframe\">\n",
       "  <thead>\n",
       "    <tr style=\"text-align: right;\">\n",
       "      <th></th>\n",
       "      <th>movieId</th>\n",
       "      <th>count</th>\n",
       "      <th>mean</th>\n",
       "      <th>bayesian_avg</th>\n",
       "      <th>title</th>\n",
       "    </tr>\n",
       "  </thead>\n",
       "  <tbody>\n",
       "    <tr>\n",
       "      <th>622</th>\n",
       "      <td>788</td>\n",
       "      <td>82</td>\n",
       "      <td>2.731707</td>\n",
       "      <td>2.79129</td>\n",
       "      <td>Nutty Professor, The (1996)</td>\n",
       "    </tr>\n",
       "  </tbody>\n",
       "</table>\n",
       "</div>"
      ],
      "text/plain": [
       "     movieId  count      mean  bayesian_avg                        title\n",
       "622      788     82  2.731707       2.79129  Nutty Professor, The (1996)"
      ]
     },
     "metadata": {},
     "output_type": "display_data"
    },
    {
     "data": {
      "text/html": [
       "<div>\n",
       "<style scoped>\n",
       "    .dataframe tbody tr th:only-of-type {\n",
       "        vertical-align: middle;\n",
       "    }\n",
       "\n",
       "    .dataframe tbody tr th {\n",
       "        vertical-align: top;\n",
       "    }\n",
       "\n",
       "    .dataframe thead th {\n",
       "        text-align: right;\n",
       "    }\n",
       "</style>\n",
       "<table border=\"1\" class=\"dataframe\">\n",
       "  <thead>\n",
       "    <tr style=\"text-align: right;\">\n",
       "      <th></th>\n",
       "      <th>movieId</th>\n",
       "      <th>count</th>\n",
       "      <th>mean</th>\n",
       "      <th>bayesian_avg</th>\n",
       "      <th>title</th>\n",
       "    </tr>\n",
       "  </thead>\n",
       "  <tbody>\n",
       "    <tr>\n",
       "      <th>815</th>\n",
       "      <td>1073</td>\n",
       "      <td>119</td>\n",
       "      <td>3.87395</td>\n",
       "      <td>3.824934</td>\n",
       "      <td>Willy Wonka &amp; the Chocolate Factory (1971)</td>\n",
       "    </tr>\n",
       "  </tbody>\n",
       "</table>\n",
       "</div>"
      ],
      "text/plain": [
       "     movieId  count     mean  bayesian_avg  \\\n",
       "815     1073    119  3.87395      3.824934   \n",
       "\n",
       "                                          title  \n",
       "815  Willy Wonka & the Chocolate Factory (1971)  "
      ]
     },
     "metadata": {},
     "output_type": "display_data"
    },
    {
     "data": {
      "text/html": [
       "<div>\n",
       "<style scoped>\n",
       "    .dataframe tbody tr th:only-of-type {\n",
       "        vertical-align: middle;\n",
       "    }\n",
       "\n",
       "    .dataframe tbody tr th {\n",
       "        vertical-align: top;\n",
       "    }\n",
       "\n",
       "    .dataframe thead th {\n",
       "        text-align: right;\n",
       "    }\n",
       "</style>\n",
       "<table border=\"1\" class=\"dataframe\">\n",
       "  <thead>\n",
       "    <tr style=\"text-align: right;\">\n",
       "      <th></th>\n",
       "      <th>movieId</th>\n",
       "      <th>count</th>\n",
       "      <th>mean</th>\n",
       "      <th>bayesian_avg</th>\n",
       "      <th>title</th>\n",
       "    </tr>\n",
       "  </thead>\n",
       "  <tbody>\n",
       "    <tr>\n",
       "      <th>32</th>\n",
       "      <td>34</td>\n",
       "      <td>128</td>\n",
       "      <td>3.652344</td>\n",
       "      <td>3.623124</td>\n",
       "      <td>Babe (1995)</td>\n",
       "    </tr>\n",
       "  </tbody>\n",
       "</table>\n",
       "</div>"
      ],
      "text/plain": [
       "    movieId  count      mean  bayesian_avg        title\n",
       "32       34    128  3.652344      3.623124  Babe (1995)"
      ]
     },
     "metadata": {},
     "output_type": "display_data"
    },
    {
     "data": {
      "text/html": [
       "<div>\n",
       "<style scoped>\n",
       "    .dataframe tbody tr th:only-of-type {\n",
       "        vertical-align: middle;\n",
       "    }\n",
       "\n",
       "    .dataframe tbody tr th {\n",
       "        vertical-align: top;\n",
       "    }\n",
       "\n",
       "    .dataframe thead th {\n",
       "        text-align: right;\n",
       "    }\n",
       "</style>\n",
       "<table border=\"1\" class=\"dataframe\">\n",
       "  <thead>\n",
       "    <tr style=\"text-align: right;\">\n",
       "      <th></th>\n",
       "      <th>movieId</th>\n",
       "      <th>count</th>\n",
       "      <th>mean</th>\n",
       "      <th>bayesian_avg</th>\n",
       "      <th>title</th>\n",
       "    </tr>\n",
       "  </thead>\n",
       "  <tbody>\n",
       "    <tr>\n",
       "      <th>963</th>\n",
       "      <td>1265</td>\n",
       "      <td>143</td>\n",
       "      <td>3.944056</td>\n",
       "      <td>3.89797</td>\n",
       "      <td>Groundhog Day (1993)</td>\n",
       "    </tr>\n",
       "  </tbody>\n",
       "</table>\n",
       "</div>"
      ],
      "text/plain": [
       "     movieId  count      mean  bayesian_avg                 title\n",
       "963     1265    143  3.944056       3.89797  Groundhog Day (1993)"
      ]
     },
     "metadata": {},
     "output_type": "display_data"
    },
    {
     "data": {
      "text/html": [
       "<div>\n",
       "<style scoped>\n",
       "    .dataframe tbody tr th:only-of-type {\n",
       "        vertical-align: middle;\n",
       "    }\n",
       "\n",
       "    .dataframe tbody tr th {\n",
       "        vertical-align: top;\n",
       "    }\n",
       "\n",
       "    .dataframe thead th {\n",
       "        text-align: right;\n",
       "    }\n",
       "</style>\n",
       "<table border=\"1\" class=\"dataframe\">\n",
       "  <thead>\n",
       "    <tr style=\"text-align: right;\">\n",
       "      <th></th>\n",
       "      <th>movieId</th>\n",
       "      <th>count</th>\n",
       "      <th>mean</th>\n",
       "      <th>bayesian_avg</th>\n",
       "      <th>title</th>\n",
       "    </tr>\n",
       "  </thead>\n",
       "  <tbody>\n",
       "    <tr>\n",
       "      <th>325</th>\n",
       "      <td>367</td>\n",
       "      <td>157</td>\n",
       "      <td>3.184713</td>\n",
       "      <td>3.18953</td>\n",
       "      <td>Mask, The (1994)</td>\n",
       "    </tr>\n",
       "  </tbody>\n",
       "</table>\n",
       "</div>"
      ],
      "text/plain": [
       "     movieId  count      mean  bayesian_avg             title\n",
       "325      367    157  3.184713       3.18953  Mask, The (1994)"
      ]
     },
     "metadata": {},
     "output_type": "display_data"
    },
    {
     "data": {
      "text/html": [
       "<div>\n",
       "<style scoped>\n",
       "    .dataframe tbody tr th:only-of-type {\n",
       "        vertical-align: middle;\n",
       "    }\n",
       "\n",
       "    .dataframe tbody tr th {\n",
       "        vertical-align: top;\n",
       "    }\n",
       "\n",
       "    .dataframe thead th {\n",
       "        text-align: right;\n",
       "    }\n",
       "</style>\n",
       "<table border=\"1\" class=\"dataframe\">\n",
       "  <thead>\n",
       "    <tr style=\"text-align: right;\">\n",
       "      <th></th>\n",
       "      <th>movieId</th>\n",
       "      <th>count</th>\n",
       "      <th>mean</th>\n",
       "      <th>bayesian_avg</th>\n",
       "      <th>title</th>\n",
       "    </tr>\n",
       "  </thead>\n",
       "  <tbody>\n",
       "    <tr>\n",
       "      <th>1521</th>\n",
       "      <td>2054</td>\n",
       "      <td>68</td>\n",
       "      <td>2.757353</td>\n",
       "      <td>2.824187</td>\n",
       "      <td>Honey, I Shrunk the Kids (1989)</td>\n",
       "    </tr>\n",
       "  </tbody>\n",
       "</table>\n",
       "</div>"
      ],
      "text/plain": [
       "      movieId  count      mean  bayesian_avg                            title\n",
       "1521     2054     68  2.757353      2.824187  Honey, I Shrunk the Kids (1989)"
      ]
     },
     "metadata": {},
     "output_type": "display_data"
    }
   ],
   "source": [
    "display(movie_stats[movie_stats[\"movieId\"] == movie_id])\n",
    "for similar_id in similar_ids:\n",
    "    # print(similar_id)\n",
    "    display(movie_stats[movie_stats[\"movieId\"] == similar_id])\n",
    "# 顯示結果後才想到，這個推薦不是看貝葉斯平均，而是各個使用者的評分"
   ]
  },
  {
   "cell_type": "markdown",
   "id": "9d09e79d",
   "metadata": {},
   "source": [
    "## Extra：User-based 在這個資料集的應用"
   ]
  },
  {
   "cell_type": "code",
   "execution_count": 361,
   "id": "f784ecfe",
   "metadata": {},
   "outputs": [],
   "source": [
    "from sklearn.neighbors import NearestNeighbors\n",
    "\n",
    "def find_similar_users(user_id, X, k, metric = \"cosine\", show_distance = False):\n",
    "    \"\"\"\n",
    "    Finds k-nearest neighbours for a given user id.\n",
    "    \n",
    "    Args:\n",
    "        user_id: id of the user of interest\n",
    "        X: user-item utility matrix\n",
    "        k: number of similar users to retrieve\n",
    "        metric: distance metric for kNN calculations\n",
    "    \n",
    "    Returns:\n",
    "        list of k similar user ID's\n",
    "    \"\"\"\n",
    "\n",
    "    user_row = X[user_mapper[user_id]].toarray().flatten() # 取出使用者的評分，並轉成 1D\n",
    "    zero_indices = np.where(user_row == 0)[0] # 找出值為 0 的 index，這代表使用者沒看過的電影\n",
    "\n",
    "    neighbour_indices = []\n",
    "    user_ind = user_mapper[user_id]\n",
    "    user_vec = X[user_ind]\n",
    "    k += 1 # 自己跟自己會最像，所以要先加進來，後面會再移除\n",
    "    KNN = NearestNeighbors(n_neighbors = k, algorithm = \"brute\", metric = metric) # brute 每一對都算距離，適合高維資料\n",
    "    KNN.fit(X)\n",
    "    if isinstance(user_vec, (np.ndarray)): # 如果是 np 類別的話\n",
    "        user_vec = user_vec.reshape(1, -1) # 確保輸入是 2D 的，csr 則不用改，本身就是 (1, n) 的形狀\n",
    "    neighbour = KNN.kneighbors(user_vec, return_distance = show_distance) # 結果是 2D array\n",
    "    for i in range(k):\n",
    "        n = neighbour.item(i) # item(0) 就是 [0][0]\n",
    "        neighbour_indices.append(n) # 這裡不是用 user_inv_mapper[n]，因為後續需要取出 utility matrix 的 rows，要用 indices\n",
    "    neighbour_indices.pop(0)\n",
    "    return neighbour_indices, zero_indices\n",
    "\n",
    "X_user = X.T"
   ]
  },
  {
   "cell_type": "code",
   "execution_count": 362,
   "id": "c2a97129",
   "metadata": {},
   "outputs": [
    {
     "name": "stdout",
     "output_type": "stream",
     "text": [
      "True\n",
      "False\n"
     ]
    }
   ],
   "source": [
    "# 會有這個程式碼是想再確認 movieId 是有跳號的，相對不直覺\n",
    "\n",
    "user_id = 1\n",
    "uidx = user_mapper[user_id] # userId = 1 對應到的 row index（別直接用 0，雖然 userId 沒有跳號，但還是有差 1，要保險一點）\n",
    "cols = X_user[uidx].nonzero()[1] # 該使用者評過的「欄索引」\n",
    "\n",
    "mids = [movie_inv_mapper[c] for c in cols]  # 轉回原始 movieId\n",
    "# mids\n",
    "print(50 in mids)   # 應該 True\n",
    "print(44 in mids)   # 應該 False"
   ]
  },
  {
   "cell_type": "code",
   "execution_count": 363,
   "id": "3b9495c7",
   "metadata": {},
   "outputs": [
    {
     "name": "stdout",
     "output_type": "stream",
     "text": [
      "[265, 312, 367, 56, 90, 468, 38, 287, 451, 44]\n",
      "[   1    3    4 ... 9721 9722 9723]\n"
     ]
    }
   ],
   "source": [
    "similar_user_indices, zero_indices = find_similar_users(1, X_user, k = 10)\n",
    "print(similar_user_indices) # 10 位與使用者最相似的使用者 ID\n",
    "print(zero_indices)"
   ]
  },
  {
   "cell_type": "code",
   "execution_count": 364,
   "id": "bbc3ba99",
   "metadata": {},
   "outputs": [
    {
     "data": {
      "text/plain": [
       "<Compressed Sparse Column sparse matrix of dtype 'float64'\n",
       "\twith 3264 stored elements and shape (10, 9492)>"
      ]
     },
     "execution_count": 364,
     "metadata": {},
     "output_type": "execute_result"
    }
   ],
   "source": [
    "target_user_have_not_seen = X_user[similar_user_indices, :][:, zero_indices]\n",
    "target_user_have_not_seen # 最後的欄 index 是 9491，要透過 zero_indices[index] 來取得 movie_column_index"
   ]
  },
  {
   "cell_type": "code",
   "execution_count": 365,
   "id": "7855fb3f",
   "metadata": {},
   "outputs": [
    {
     "data": {
      "text/plain": [
       "array([2.5, 0. , 2.5, ..., 0. , 0. , 0. ], shape=(9492,))"
      ]
     },
     "execution_count": 365,
     "metadata": {},
     "output_type": "execute_result"
    }
   ],
   "source": [
    "number_of_nonzero_per_movie = np.asarray(target_user_have_not_seen.getnnz(axis = 0)).ravel() # getnnz()：取得非零元素的數量\n",
    "sum_of_ratings_per_movie = np.asarray(target_user_have_not_seen.sum(axis = 0)).ravel() # 每一部電影的評分加總\n",
    "mean_nonzero = sum_of_ratings_per_movie / np.maximum(number_of_nonzero_per_movie, 1) # 每一部電影的非零平均，這裡用 maximum 是要避免除以 0\n",
    "mean_nonzero "
   ]
  },
  {
   "cell_type": "code",
   "execution_count": 366,
   "id": "4472c8ce",
   "metadata": {},
   "outputs": [
    {
     "name": "stdout",
     "output_type": "stream",
     "text": [
      "421\n",
      "<Compressed Sparse Column sparse matrix of dtype 'float64'\n",
      "\twith 1 stored elements and shape (10, 1)>\n",
      "  Coords\tValues\n",
      "  (0, 0)\t5.0\n"
     ]
    }
   ],
   "source": [
    "print(mean_nonzero.argmax()) # 這裡獲取的 index 和 zero_indices 不一樣!\n",
    "print(target_user_have_not_seen[:, 421]) # 實際上要用 zero_indices 去取得原始 CSR 的 movie_column_index"
   ]
  },
  {
   "cell_type": "code",
   "execution_count": 367,
   "id": "e5591ef0",
   "metadata": {},
   "outputs": [
    {
     "data": {
      "text/plain": [
       "array([3.16642157, 3.33302696, 3.16642157, ..., 3.33302696, 3.33302696,\n",
       "       3.33302696], shape=(9492,))"
      ]
     },
     "execution_count": 367,
     "metadata": {},
     "output_type": "execute_result"
    }
   ],
   "source": [
    "# Baseline：全域的非零平均，用來平衡樣本少的狀況\n",
    "mu = target_user_have_not_seen.sum() / max(int(target_user_have_not_seen.getnnz()), 1)\n",
    "\n",
    "# 縮減：樣本少的電影往 baseline 收斂（α 可調 5 ~ 20）\n",
    "alpha = 8 # alpha 越大，收斂越強、越保守\n",
    "shrink = number_of_nonzero_per_movie / (number_of_nonzero_per_movie + alpha)\n",
    "pred = shrink * mean_nonzero + (1 - shrink) * mu # 預測分數（越高越推薦）\n",
    "pred # 沒有評論的分數比有評論的高，這要看後續結果是否有很多高於 3.33302696 來決定是否直接顯示 0"
   ]
  },
  {
   "cell_type": "code",
   "execution_count": 368,
   "id": "0d52d9bf",
   "metadata": {},
   "outputs": [
    {
     "data": {
      "text/plain": [
       "array([ 757, 3402,  560, 2145,  843, 1895,  973,  445,  830,  615])"
      ]
     },
     "execution_count": 368,
     "metadata": {},
     "output_type": "execute_result"
    }
   ],
   "source": [
    "# 取 Top-N 推薦\n",
    "topN = 10\n",
    "\n",
    "pred.argmax() # target_user_have_not_seen 的 index， 為 615\n",
    "np.argsort(pred)[-topN: ] # index 依照數值由小排到大，例如最大的是引數在 615 的地方"
   ]
  },
  {
   "cell_type": "code",
   "execution_count": 369,
   "id": "9a4e1fad",
   "metadata": {},
   "outputs": [
    {
     "name": "stdout",
     "output_type": "stream",
     "text": [
      "你的使用者 id 為 1\n",
      "以下為推薦您的電影:\n",
      "mu 分數為 3.333\n",
      "電影名稱: Godfather, The (1972), 分數: 4.104, 評分人數: 8/10\n",
      "電影名稱: Aliens (1986), 分數: 3.9802, 評分人數: 9/10\n",
      "電影名稱: Blade Runner (1982), 分數: 3.979, 評分人數: 8/10\n",
      "電影名稱: Jaws (1975), 分數: 3.9776, 評分人數: 7/10\n",
      "電影名稱: Sixth Sense, The (1999), 分數: 3.9214, 評分人數: 9/10\n",
      "電影名稱: Godfather: Part II, The (1974), 分數: 3.9165, 評分人數: 8/10\n",
      "電影名稱: Fisher King, The (1991), 分數: 3.8887, 評分人數: 4/10\n",
      "電影名稱: Dr. Strangelove or: How I Learned to Stop Worrying and Love the Bomb (1964), 分數: 3.8588, 評分人數: 5/10\n",
      "電影名稱: Lord of the Rings: The Fellowship of the Ring, The (2001), 分數: 3.847, 評分人數: 4/10\n",
      "電影名稱: Fish Called Wanda, A (1988), 分數: 3.8332, 評分人數: 6/10\n"
     ]
    }
   ],
   "source": [
    "# 如果要再研究深的話，可以調整 alpha 的大小\n",
    "\n",
    "# 取 Top-N 推薦\n",
    "topN = 10\n",
    "# np.sort(-pred)[: topN] # 排序會由低到高，所以用負號反轉變高到低\n",
    "order = np.argsort(-pred)[: topN]\n",
    "# print(order) # target_user_have_not_seen 的 indices\n",
    "\n",
    "print(f\"你的使用者 id 為 {user_id}\")\n",
    "print(\"以下為推薦您的電影:\")\n",
    "print(\"mu 分數為\", round(mu, 4)) # score 和 mu 的關係\n",
    "for index in order:\n",
    "    zero_index = zero_indices[index]\n",
    "    movie_id = movie_inv_mapper[zero_index]\n",
    "    movie_title = movie_titles[movie_id]\n",
    "    score = pred[index]\n",
    "    number_of_nonzero = number_of_nonzero_per_movie[index]\n",
    "    print(f\"電影名稱: {movie_title}, 分數: {round(score, 4)}, 評分人數: {number_of_nonzero}/10\") # 每部電影的評分人數在 10 人中佔了多少人"
   ]
  }
 ],
 "metadata": {
  "kernelspec": {
   "display_name": "recommender_systems",
   "language": "python",
   "name": "python3"
  },
  "language_info": {
   "codemirror_mode": {
    "name": "ipython",
    "version": 3
   },
   "file_extension": ".py",
   "mimetype": "text/x-python",
   "name": "python",
   "nbconvert_exporter": "python",
   "pygments_lexer": "ipython3",
   "version": "3.12.11"
  }
 },
 "nbformat": 4,
 "nbformat_minor": 5
}
